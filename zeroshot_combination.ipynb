{
 "cells": [
  {
   "cell_type": "code",
   "execution_count": 257,
   "metadata": {},
   "outputs": [],
   "source": [
    "from sklearn.ensemble import RandomForestRegressor\n",
    "from sklearn.model_selection import train_test_split\n",
    "from sklearn.metrics import mean_squared_error, r2_score\n",
    "import pandas as pd"
   ]
  },
  {
   "cell_type": "code",
   "execution_count": 299,
   "metadata": {},
   "outputs": [],
   "source": [
    "train_df = pd.read_csv(\"train_nas101_4k_medium.csv\")\n",
    "val_df = pd.read_csv(\"val_nas101_4k_medium.csv\")\n",
    "test_df = pd.read_csv(\"test_nas101_4k_medium.csv\")\n",
    "nas201_cf10_preds_df = pd.read_csv(\"nas201_cf10_preds_df.csv\")\n",
    "nas201_imgnet = pd.read_csv('nas201_imgnet.csv')\n",
    "nas201_cf10 = pd.read_csv('nas201_cf10.csv')\n",
    "nas201_cf100 = pd.read_csv('nas201_cf100.csv')\n",
    "test_201_imgnet_df = pd.merge(nas201_cf10_preds_df, nas201_imgnet, left_on=\"hashes\", right_on=\"idx\").fillna(1.0)\n",
    "test_201_cf10_df = pd.merge(nas201_cf10_preds_df, nas201_cf10, left_on=\"hashes\", right_on=\"idx\").fillna(1.0)\n",
    "test_201_cf100_df = pd.merge(nas201_cf10_preds_df, nas201_cf100, left_on=\"hashes\", right_on=\"idx\").fillna(1.0)"
   ]
  },
  {
   "cell_type": "code",
   "execution_count": 300,
   "metadata": {},
   "outputs": [],
   "source": [
    "nas101_train_preds = pd.read_csv(\"nas101_train_preds.csv\")\n",
    "nas101_val_preds = pd.read_csv(\"nas101_val_preds.csv\")\n",
    "nas101_test_preds = pd.read_csv(\"nas101_test_preds.csv\")\n",
    "nas201_test_preds = pd.read_csv(\"nas201_test_preds.csv\")"
   ]
  },
  {
   "cell_type": "code",
   "execution_count": 301,
   "metadata": {},
   "outputs": [
    {
     "data": {
      "text/plain": [
       "(15625, 15625, 15625)"
      ]
     },
     "execution_count": 301,
     "metadata": {},
     "output_type": "execute_result"
    }
   ],
   "source": [
    "new_train_df = pd.merge(nas101_train_preds[['hashes','raw_pred']], train_df, left_on=\"hashes\", right_on=\"hash\")\n",
    "new_val_df = pd.merge(nas101_val_preds[['hashes','raw_pred']], val_df, left_on=\"hashes\", right_on=\"hash\")\n",
    "new_test_df = pd.merge(nas101_test_preds[['hashes','raw_pred']], test_df, left_on=\"hashes\", right_on=\"hash\")\n",
    "new_test_201_imgnet_df = pd.merge(nas201_test_preds[['hashes','raw_pred']], test_201_imgnet_df, left_on=\"hashes\", right_on=\"idx\").fillna(1.0)\n",
    "new_test_201_cf10_df = pd.merge(nas201_test_preds[['hashes','raw_pred']], test_201_cf10_df, left_on=\"hashes\", right_on=\"idx\").fillna(1.0)\n",
    "new_test_201_cf100_df = pd.merge(nas201_test_preds[['hashes','raw_pred']], test_201_cf100_df, left_on=\"hashes\", right_on=\"idx\").fillna(1.0)\n",
    "len(new_test_201_cf100_df), len(new_test_201_cf10_df), len(new_test_201_imgnet_df)"
   ]
  },
  {
   "cell_type": "code",
   "execution_count": 302,
   "metadata": {},
   "outputs": [],
   "source": [
    "metrics = ['plain', 'snip', 'grasp', 'fisher', 'synflow_bn',\n",
    "       'grad_norm', 'jacob_cov']\n",
    "for metric in metrics:\n",
    "    new_train_df[f\"pred_x_{metric}\"] = new_train_df[\"pred\"] * new_train_df[metric]\n",
    "    new_val_df[f\"pred_x_{metric}\"] = new_val_df[\"pred\"] * new_val_df[metric]\n",
    "    new_test_df[f\"pred_x_{metric}\"] = new_test_df[\"pred\"] * new_test_df[metric]\n",
    "    new_test_201_imgnet_df[f\"pred_x_{metric}\"] = new_test_201_imgnet_df[\"pred\"] * new_test_201_imgnet_df[metric]\n",
    "    new_test_201_cf10_df[f\"pred_x_{metric}\"] = new_test_201_cf10_df[\"pred\"] * new_test_201_cf10_df[metric]\n",
    "    new_test_201_cf100_df[f\"pred_x_{metric}\"] = new_test_201_cf100_df[\"pred\"] * new_test_201_cf100_df[metric]\n",
    "    \n",
    "    new_train_df[f\"raw_pred_x_{metric}\"] = new_train_df[\"raw_pred\"] * new_train_df[metric]\n",
    "    new_val_df[f\"raw_pred_x_{metric}\"] = new_val_df[\"raw_pred\"] * new_val_df[metric]\n",
    "    new_test_df[f\"raw_pred_x_{metric}\"] = new_test_df[\"raw_pred\"] * new_test_df[metric]\n",
    "    new_test_201_imgnet_df[f\"raw_pred_x_{metric}\"] = new_test_201_imgnet_df[\"raw_pred\"] * new_test_201_imgnet_df[metric]\n",
    "    new_test_201_cf10_df[f\"raw_pred_x_{metric}\"] = new_test_201_cf10_df[\"raw_pred\"] * new_test_201_cf10_df[metric]\n",
    "    new_test_201_cf100_df[f\"raw_pred_x_{metric}\"] = new_test_201_cf100_df[\"raw_pred\"] * new_test_201_cf100_df[metric]"
   ]
  },
  {
   "cell_type": "code",
   "execution_count": 303,
   "metadata": {},
   "outputs": [
    {
     "data": {
      "text/plain": [
       "Index(['hashes', 'raw_pred', 'Unnamed: 0', 'plain', 'snip', 'grasp', 'fisher',\n",
       "       'synflow', 'synflow_bn', 'grad_norm', 'l2_norm', 'jacob_cov', 'hash',\n",
       "       'pred', 'target', 'pred_x_plain', 'raw_pred_x_plain', 'pred_x_snip',\n",
       "       'raw_pred_x_snip', 'pred_x_grasp', 'raw_pred_x_grasp', 'pred_x_fisher',\n",
       "       'raw_pred_x_fisher', 'pred_x_synflow_bn', 'raw_pred_x_synflow_bn',\n",
       "       'pred_x_grad_norm', 'raw_pred_x_grad_norm', 'pred_x_jacob_cov',\n",
       "       'raw_pred_x_jacob_cov'],\n",
       "      dtype='object')"
      ]
     },
     "execution_count": 303,
     "metadata": {},
     "output_type": "execute_result"
    }
   ],
   "source": [
    "new_train_df.columns"
   ]
  },
  {
   "cell_type": "markdown",
   "metadata": {},
   "source": [
    "## Random Forest Attempts"
   ]
  },
  {
   "cell_type": "code",
   "execution_count": 321,
   "metadata": {},
   "outputs": [],
   "source": [
    "predictor_cols = ['raw_pred', 'plain', 'snip', 'grasp', 'fisher',\n",
    "'synflow_bn', 'grad_norm', 'jacob_cov',\n",
    "'pred', 'pred_x_plain', 'raw_pred_x_plain', 'pred_x_snip',\n",
    "'raw_pred_x_snip', 'pred_x_grasp', 'raw_pred_x_grasp', 'pred_x_fisher',\n",
    "'raw_pred_x_fisher', 'pred_x_synflow_bn', 'raw_pred_x_synflow_bn',\n",
    " 'pred_x_grad_norm', 'raw_pred_x_grad_norm', 'pred_x_jacob_cov', 'raw_pred_x_jacob_cov', 'synflow']\n",
    "\n",
    "predictor_cols2 = ['plain', 'snip', 'grasp', 'fisher',\n",
    "'synflow_bn', 'grad_norm', 'jacob_cov',\n",
    "'pred', 'pred_x_plain', 'pred_x_snip',\n",
    "'pred_x_grasp', 'pred_x_fisher',\n",
    "'pred_x_synflow_bn', 'pred_x_grad_norm', 'pred_x_jacob_cov']\n",
    "\n",
    "reg_cols = ['pred_x_plain', 'pred_x_snip', 'pred_x_grasp', 'pred_x_fisher', 'pred_x_synflow_bn', 'pred_x_grad_norm', 'pred_x_jacob_cov']\n",
    "\n",
    "\n",
    "#predictor_cols = ['synflow_bn', 'jacob_cov']"
   ]
  },
  {
   "cell_type": "code",
   "execution_count": 264,
   "metadata": {},
   "outputs": [
    {
     "name": "stderr",
     "output_type": "stream",
     "text": [
      "/opt/conda/envs/test/lib/python3.9/site-packages/pandas/core/generic.py:2070: RuntimeWarning: overflow encountered in cast\n",
      "  return np.asarray(self._values, dtype=dtype)\n"
     ]
    },
    {
     "ename": "ValueError",
     "evalue": "Input X contains infinity or a value too large for dtype('float32').",
     "output_type": "error",
     "traceback": [
      "\u001b[0;31m---------------------------------------------------------------------------\u001b[0m",
      "\u001b[0;31mValueError\u001b[0m                                Traceback (most recent call last)",
      "Cell \u001b[0;32mIn[264], line 7\u001b[0m\n\u001b[1;32m      4\u001b[0m y_train \u001b[38;5;241m=\u001b[39m new_train_df[\u001b[38;5;124m\"\u001b[39m\u001b[38;5;124mtarget\u001b[39m\u001b[38;5;124m\"\u001b[39m]\n\u001b[1;32m      6\u001b[0m rf \u001b[38;5;241m=\u001b[39m RandomForestRegressor(n_estimators\u001b[38;5;241m=\u001b[39m\u001b[38;5;241m100\u001b[39m, random_state\u001b[38;5;241m=\u001b[39m\u001b[38;5;241m109\u001b[39m)\n\u001b[0;32m----> 7\u001b[0m \u001b[43mrf\u001b[49m\u001b[38;5;241;43m.\u001b[39;49m\u001b[43mfit\u001b[49m\u001b[43m(\u001b[49m\u001b[43mX_train\u001b[49m\u001b[43m,\u001b[49m\u001b[43m \u001b[49m\u001b[43my_train\u001b[49m\u001b[43m)\u001b[49m\n",
      "File \u001b[0;32m/opt/conda/envs/test/lib/python3.9/site-packages/sklearn/ensemble/_forest.py:345\u001b[0m, in \u001b[0;36mBaseForest.fit\u001b[0;34m(self, X, y, sample_weight)\u001b[0m\n\u001b[1;32m    343\u001b[0m \u001b[39mif\u001b[39;00m issparse(y):\n\u001b[1;32m    344\u001b[0m     \u001b[39mraise\u001b[39;00m \u001b[39mValueError\u001b[39;00m(\u001b[39m\"\u001b[39m\u001b[39msparse multilabel-indicator for y is not supported.\u001b[39m\u001b[39m\"\u001b[39m)\n\u001b[0;32m--> 345\u001b[0m X, y \u001b[39m=\u001b[39m \u001b[39mself\u001b[39;49m\u001b[39m.\u001b[39;49m_validate_data(\n\u001b[1;32m    346\u001b[0m     X, y, multi_output\u001b[39m=\u001b[39;49m\u001b[39mTrue\u001b[39;49;00m, accept_sparse\u001b[39m=\u001b[39;49m\u001b[39m\"\u001b[39;49m\u001b[39mcsc\u001b[39;49m\u001b[39m\"\u001b[39;49m, dtype\u001b[39m=\u001b[39;49mDTYPE\n\u001b[1;32m    347\u001b[0m )\n\u001b[1;32m    348\u001b[0m \u001b[39mif\u001b[39;00m sample_weight \u001b[39mis\u001b[39;00m \u001b[39mnot\u001b[39;00m \u001b[39mNone\u001b[39;00m:\n\u001b[1;32m    349\u001b[0m     sample_weight \u001b[39m=\u001b[39m _check_sample_weight(sample_weight, X)\n",
      "File \u001b[0;32m/opt/conda/envs/test/lib/python3.9/site-packages/sklearn/base.py:565\u001b[0m, in \u001b[0;36mBaseEstimator._validate_data\u001b[0;34m(self, X, y, reset, validate_separately, **check_params)\u001b[0m\n\u001b[1;32m    563\u001b[0m         y \u001b[39m=\u001b[39m check_array(y, input_name\u001b[39m=\u001b[39m\u001b[39m\"\u001b[39m\u001b[39my\u001b[39m\u001b[39m\"\u001b[39m, \u001b[39m*\u001b[39m\u001b[39m*\u001b[39mcheck_y_params)\n\u001b[1;32m    564\u001b[0m     \u001b[39melse\u001b[39;00m:\n\u001b[0;32m--> 565\u001b[0m         X, y \u001b[39m=\u001b[39m check_X_y(X, y, \u001b[39m*\u001b[39;49m\u001b[39m*\u001b[39;49mcheck_params)\n\u001b[1;32m    566\u001b[0m     out \u001b[39m=\u001b[39m X, y\n\u001b[1;32m    568\u001b[0m \u001b[39mif\u001b[39;00m \u001b[39mnot\u001b[39;00m no_val_X \u001b[39mand\u001b[39;00m check_params\u001b[39m.\u001b[39mget(\u001b[39m\"\u001b[39m\u001b[39mensure_2d\u001b[39m\u001b[39m\"\u001b[39m, \u001b[39mTrue\u001b[39;00m):\n",
      "File \u001b[0;32m/opt/conda/envs/test/lib/python3.9/site-packages/sklearn/utils/validation.py:1106\u001b[0m, in \u001b[0;36mcheck_X_y\u001b[0;34m(X, y, accept_sparse, accept_large_sparse, dtype, order, copy, force_all_finite, ensure_2d, allow_nd, multi_output, ensure_min_samples, ensure_min_features, y_numeric, estimator)\u001b[0m\n\u001b[1;32m   1101\u001b[0m         estimator_name \u001b[39m=\u001b[39m _check_estimator_name(estimator)\n\u001b[1;32m   1102\u001b[0m     \u001b[39mraise\u001b[39;00m \u001b[39mValueError\u001b[39;00m(\n\u001b[1;32m   1103\u001b[0m         \u001b[39mf\u001b[39m\u001b[39m\"\u001b[39m\u001b[39m{\u001b[39;00mestimator_name\u001b[39m}\u001b[39;00m\u001b[39m requires y to be passed, but the target y is None\u001b[39m\u001b[39m\"\u001b[39m\n\u001b[1;32m   1104\u001b[0m     )\n\u001b[0;32m-> 1106\u001b[0m X \u001b[39m=\u001b[39m check_array(\n\u001b[1;32m   1107\u001b[0m     X,\n\u001b[1;32m   1108\u001b[0m     accept_sparse\u001b[39m=\u001b[39;49maccept_sparse,\n\u001b[1;32m   1109\u001b[0m     accept_large_sparse\u001b[39m=\u001b[39;49maccept_large_sparse,\n\u001b[1;32m   1110\u001b[0m     dtype\u001b[39m=\u001b[39;49mdtype,\n\u001b[1;32m   1111\u001b[0m     order\u001b[39m=\u001b[39;49morder,\n\u001b[1;32m   1112\u001b[0m     copy\u001b[39m=\u001b[39;49mcopy,\n\u001b[1;32m   1113\u001b[0m     force_all_finite\u001b[39m=\u001b[39;49mforce_all_finite,\n\u001b[1;32m   1114\u001b[0m     ensure_2d\u001b[39m=\u001b[39;49mensure_2d,\n\u001b[1;32m   1115\u001b[0m     allow_nd\u001b[39m=\u001b[39;49mallow_nd,\n\u001b[1;32m   1116\u001b[0m     ensure_min_samples\u001b[39m=\u001b[39;49mensure_min_samples,\n\u001b[1;32m   1117\u001b[0m     ensure_min_features\u001b[39m=\u001b[39;49mensure_min_features,\n\u001b[1;32m   1118\u001b[0m     estimator\u001b[39m=\u001b[39;49mestimator,\n\u001b[1;32m   1119\u001b[0m     input_name\u001b[39m=\u001b[39;49m\u001b[39m\"\u001b[39;49m\u001b[39mX\u001b[39;49m\u001b[39m\"\u001b[39;49m,\n\u001b[1;32m   1120\u001b[0m )\n\u001b[1;32m   1122\u001b[0m y \u001b[39m=\u001b[39m _check_y(y, multi_output\u001b[39m=\u001b[39mmulti_output, y_numeric\u001b[39m=\u001b[39my_numeric, estimator\u001b[39m=\u001b[39mestimator)\n\u001b[1;32m   1124\u001b[0m check_consistent_length(X, y)\n",
      "File \u001b[0;32m/opt/conda/envs/test/lib/python3.9/site-packages/sklearn/utils/validation.py:921\u001b[0m, in \u001b[0;36mcheck_array\u001b[0;34m(array, accept_sparse, accept_large_sparse, dtype, order, copy, force_all_finite, ensure_2d, allow_nd, ensure_min_samples, ensure_min_features, estimator, input_name)\u001b[0m\n\u001b[1;32m    915\u001b[0m         \u001b[39mraise\u001b[39;00m \u001b[39mValueError\u001b[39;00m(\n\u001b[1;32m    916\u001b[0m             \u001b[39m\"\u001b[39m\u001b[39mFound array with dim \u001b[39m\u001b[39m%d\u001b[39;00m\u001b[39m. \u001b[39m\u001b[39m%s\u001b[39;00m\u001b[39m expected <= 2.\u001b[39m\u001b[39m\"\u001b[39m\n\u001b[1;32m    917\u001b[0m             \u001b[39m%\u001b[39m (array\u001b[39m.\u001b[39mndim, estimator_name)\n\u001b[1;32m    918\u001b[0m         )\n\u001b[1;32m    920\u001b[0m     \u001b[39mif\u001b[39;00m force_all_finite:\n\u001b[0;32m--> 921\u001b[0m         _assert_all_finite(\n\u001b[1;32m    922\u001b[0m             array,\n\u001b[1;32m    923\u001b[0m             input_name\u001b[39m=\u001b[39;49minput_name,\n\u001b[1;32m    924\u001b[0m             estimator_name\u001b[39m=\u001b[39;49mestimator_name,\n\u001b[1;32m    925\u001b[0m             allow_nan\u001b[39m=\u001b[39;49mforce_all_finite \u001b[39m==\u001b[39;49m \u001b[39m\"\u001b[39;49m\u001b[39mallow-nan\u001b[39;49m\u001b[39m\"\u001b[39;49m,\n\u001b[1;32m    926\u001b[0m         )\n\u001b[1;32m    928\u001b[0m \u001b[39mif\u001b[39;00m ensure_min_samples \u001b[39m>\u001b[39m \u001b[39m0\u001b[39m:\n\u001b[1;32m    929\u001b[0m     n_samples \u001b[39m=\u001b[39m _num_samples(array)\n",
      "File \u001b[0;32m/opt/conda/envs/test/lib/python3.9/site-packages/sklearn/utils/validation.py:161\u001b[0m, in \u001b[0;36m_assert_all_finite\u001b[0;34m(X, allow_nan, msg_dtype, estimator_name, input_name)\u001b[0m\n\u001b[1;32m    144\u001b[0m \u001b[39mif\u001b[39;00m estimator_name \u001b[39mand\u001b[39;00m input_name \u001b[39m==\u001b[39m \u001b[39m\"\u001b[39m\u001b[39mX\u001b[39m\u001b[39m\"\u001b[39m \u001b[39mand\u001b[39;00m has_nan_error:\n\u001b[1;32m    145\u001b[0m     \u001b[39m# Improve the error message on how to handle missing values in\u001b[39;00m\n\u001b[1;32m    146\u001b[0m     \u001b[39m# scikit-learn.\u001b[39;00m\n\u001b[1;32m    147\u001b[0m     msg_err \u001b[39m+\u001b[39m\u001b[39m=\u001b[39m (\n\u001b[1;32m    148\u001b[0m         \u001b[39mf\u001b[39m\u001b[39m\"\u001b[39m\u001b[39m\\n\u001b[39;00m\u001b[39m{\u001b[39;00mestimator_name\u001b[39m}\u001b[39;00m\u001b[39m does not accept missing values\u001b[39m\u001b[39m\"\u001b[39m\n\u001b[1;32m    149\u001b[0m         \u001b[39m\"\u001b[39m\u001b[39m encoded as NaN natively. For supervised learning, you might want\u001b[39m\u001b[39m\"\u001b[39m\n\u001b[0;32m   (...)\u001b[0m\n\u001b[1;32m    159\u001b[0m         \u001b[39m\"\u001b[39m\u001b[39m#estimators-that-handle-nan-values\u001b[39m\u001b[39m\"\u001b[39m\n\u001b[1;32m    160\u001b[0m     )\n\u001b[0;32m--> 161\u001b[0m \u001b[39mraise\u001b[39;00m \u001b[39mValueError\u001b[39;00m(msg_err)\n",
      "\u001b[0;31mValueError\u001b[0m: Input X contains infinity or a value too large for dtype('float32')."
     ]
    }
   ],
   "source": [
    "from sklearn.preprocessing import StandardScaler\n",
    "\n",
    "X_train = new_train_df[predictor_cols]\n",
    "y_train = new_train_df[\"target\"]\n",
    "\n",
    "rf = RandomForestRegressor(n_estimators=100, random_state=109)\n",
    "rf.fit(X_train, y_train)"
   ]
  },
  {
   "cell_type": "code",
   "execution_count": null,
   "metadata": {},
   "outputs": [
    {
     "data": {
      "text/html": [
       "<div>\n",
       "<style scoped>\n",
       "    .dataframe tbody tr th:only-of-type {\n",
       "        vertical-align: middle;\n",
       "    }\n",
       "\n",
       "    .dataframe tbody tr th {\n",
       "        vertical-align: top;\n",
       "    }\n",
       "\n",
       "    .dataframe thead th {\n",
       "        text-align: right;\n",
       "    }\n",
       "</style>\n",
       "<table border=\"1\" class=\"dataframe\">\n",
       "  <thead>\n",
       "    <tr style=\"text-align: right;\">\n",
       "      <th></th>\n",
       "      <th>raw_pred</th>\n",
       "      <th>plain</th>\n",
       "      <th>snip</th>\n",
       "      <th>grasp</th>\n",
       "      <th>fisher</th>\n",
       "      <th>synflow_bn</th>\n",
       "      <th>grad_norm</th>\n",
       "      <th>jacob_cov</th>\n",
       "      <th>pred</th>\n",
       "      <th>pred_x_plain</th>\n",
       "      <th>...</th>\n",
       "      <th>raw_pred_x_grasp</th>\n",
       "      <th>pred_x_fisher</th>\n",
       "      <th>raw_pred_x_fisher</th>\n",
       "      <th>pred_x_synflow_bn</th>\n",
       "      <th>raw_pred_x_synflow_bn</th>\n",
       "      <th>pred_x_grad_norm</th>\n",
       "      <th>raw_pred_x_grad_norm</th>\n",
       "      <th>pred_x_jacob_cov</th>\n",
       "      <th>raw_pred_x_jacob_cov</th>\n",
       "      <th>synflow</th>\n",
       "    </tr>\n",
       "  </thead>\n",
       "  <tbody>\n",
       "    <tr>\n",
       "      <th>0</th>\n",
       "      <td>0.808829</td>\n",
       "      <td>-0.019027</td>\n",
       "      <td>-0.626710</td>\n",
       "      <td>0.125610</td>\n",
       "      <td>-0.098956</td>\n",
       "      <td>-0.006425</td>\n",
       "      <td>-0.646135</td>\n",
       "      <td>0.821593</td>\n",
       "      <td>-0.439298</td>\n",
       "      <td>-0.021666</td>\n",
       "      <td>...</td>\n",
       "      <td>-0.072301</td>\n",
       "      <td>-0.102534</td>\n",
       "      <td>0.050174</td>\n",
       "      <td>-0.006435</td>\n",
       "      <td>-0.004761</td>\n",
       "      <td>-0.663106</td>\n",
       "      <td>0.241730</td>\n",
       "      <td>0.505509</td>\n",
       "      <td>-0.806918</td>\n",
       "      <td>-0.022199</td>\n",
       "    </tr>\n",
       "    <tr>\n",
       "      <th>1</th>\n",
       "      <td>0.705424</td>\n",
       "      <td>0.158555</td>\n",
       "      <td>-0.607197</td>\n",
       "      <td>0.125268</td>\n",
       "      <td>-0.099245</td>\n",
       "      <td>-0.006425</td>\n",
       "      <td>-0.649792</td>\n",
       "      <td>0.944564</td>\n",
       "      <td>0.451822</td>\n",
       "      <td>0.204660</td>\n",
       "      <td>...</td>\n",
       "      <td>-0.072165</td>\n",
       "      <td>-0.102809</td>\n",
       "      <td>0.050046</td>\n",
       "      <td>-0.006435</td>\n",
       "      <td>-0.004761</td>\n",
       "      <td>-0.659893</td>\n",
       "      <td>0.232522</td>\n",
       "      <td>-0.349829</td>\n",
       "      <td>-0.703323</td>\n",
       "      <td>-0.022199</td>\n",
       "    </tr>\n",
       "    <tr>\n",
       "      <th>2</th>\n",
       "      <td>0.689851</td>\n",
       "      <td>-0.059438</td>\n",
       "      <td>-0.228119</td>\n",
       "      <td>0.095264</td>\n",
       "      <td>-0.074380</td>\n",
       "      <td>-0.006346</td>\n",
       "      <td>-0.057215</td>\n",
       "      <td>-1.343932</td>\n",
       "      <td>0.189788</td>\n",
       "      <td>-0.038590</td>\n",
       "      <td>...</td>\n",
       "      <td>-0.080921</td>\n",
       "      <td>-0.076051</td>\n",
       "      <td>0.057645</td>\n",
       "      <td>-0.006354</td>\n",
       "      <td>-0.004577</td>\n",
       "      <td>-0.044687</td>\n",
       "      <td>0.439873</td>\n",
       "      <td>-0.311433</td>\n",
       "      <td>-0.695593</td>\n",
       "      <td>-0.022199</td>\n",
       "    </tr>\n",
       "    <tr>\n",
       "      <th>3</th>\n",
       "      <td>0.860613</td>\n",
       "      <td>-0.530414</td>\n",
       "      <td>-0.499652</td>\n",
       "      <td>0.126315</td>\n",
       "      <td>-0.092442</td>\n",
       "      <td>-0.006425</td>\n",
       "      <td>-0.460189</td>\n",
       "      <td>0.747266</td>\n",
       "      <td>-0.507158</td>\n",
       "      <td>-0.544549</td>\n",
       "      <td>...</td>\n",
       "      <td>-0.072162</td>\n",
       "      <td>-0.095778</td>\n",
       "      <td>0.052685</td>\n",
       "      <td>-0.006435</td>\n",
       "      <td>-0.004761</td>\n",
       "      <td>-0.476942</td>\n",
       "      <td>0.327552</td>\n",
       "      <td>0.564767</td>\n",
       "      <td>-0.858901</td>\n",
       "      <td>-0.022199</td>\n",
       "    </tr>\n",
       "    <tr>\n",
       "      <th>4</th>\n",
       "      <td>0.789001</td>\n",
       "      <td>-0.529616</td>\n",
       "      <td>-0.524713</td>\n",
       "      <td>0.128309</td>\n",
       "      <td>-0.096118</td>\n",
       "      <td>-0.006425</td>\n",
       "      <td>-0.496643</td>\n",
       "      <td>0.420460</td>\n",
       "      <td>0.077874</td>\n",
       "      <td>-0.536124</td>\n",
       "      <td>...</td>\n",
       "      <td>-0.071349</td>\n",
       "      <td>-0.099473</td>\n",
       "      <td>0.051161</td>\n",
       "      <td>-0.006435</td>\n",
       "      <td>-0.004761</td>\n",
       "      <td>-0.504189</td>\n",
       "      <td>0.300494</td>\n",
       "      <td>-0.035453</td>\n",
       "      <td>-0.788703</td>\n",
       "      <td>-0.022199</td>\n",
       "    </tr>\n",
       "    <tr>\n",
       "      <th>...</th>\n",
       "      <td>...</td>\n",
       "      <td>...</td>\n",
       "      <td>...</td>\n",
       "      <td>...</td>\n",
       "      <td>...</td>\n",
       "      <td>...</td>\n",
       "      <td>...</td>\n",
       "      <td>...</td>\n",
       "      <td>...</td>\n",
       "      <td>...</td>\n",
       "      <td>...</td>\n",
       "      <td>...</td>\n",
       "      <td>...</td>\n",
       "      <td>...</td>\n",
       "      <td>...</td>\n",
       "      <td>...</td>\n",
       "      <td>...</td>\n",
       "      <td>...</td>\n",
       "      <td>...</td>\n",
       "      <td>...</td>\n",
       "      <td>...</td>\n",
       "    </tr>\n",
       "    <tr>\n",
       "      <th>31995</th>\n",
       "      <td>-0.453825</td>\n",
       "      <td>-0.301348</td>\n",
       "      <td>-0.250697</td>\n",
       "      <td>0.124988</td>\n",
       "      <td>-0.094667</td>\n",
       "      <td>-0.006425</td>\n",
       "      <td>-0.378255</td>\n",
       "      <td>0.539014</td>\n",
       "      <td>0.386856</td>\n",
       "      <td>-0.288806</td>\n",
       "      <td>...</td>\n",
       "      <td>-0.069258</td>\n",
       "      <td>-0.097832</td>\n",
       "      <td>0.048819</td>\n",
       "      <td>-0.006435</td>\n",
       "      <td>-0.004761</td>\n",
       "      <td>-0.374677</td>\n",
       "      <td>0.080993</td>\n",
       "      <td>-0.325396</td>\n",
       "      <td>0.453489</td>\n",
       "      <td>-0.022199</td>\n",
       "    </tr>\n",
       "    <tr>\n",
       "      <th>31996</th>\n",
       "      <td>0.670678</td>\n",
       "      <td>-0.679400</td>\n",
       "      <td>-0.379451</td>\n",
       "      <td>0.128312</td>\n",
       "      <td>-0.090313</td>\n",
       "      <td>-0.006394</td>\n",
       "      <td>-0.261863</td>\n",
       "      <td>-0.247148</td>\n",
       "      <td>0.270822</td>\n",
       "      <td>-0.692309</td>\n",
       "      <td>...</td>\n",
       "      <td>-0.071212</td>\n",
       "      <td>-0.093159</td>\n",
       "      <td>0.052692</td>\n",
       "      <td>-0.006403</td>\n",
       "      <td>-0.004691</td>\n",
       "      <td>-0.255529</td>\n",
       "      <td>0.362586</td>\n",
       "      <td>-0.286986</td>\n",
       "      <td>-0.672625</td>\n",
       "      <td>-0.022199</td>\n",
       "    </tr>\n",
       "    <tr>\n",
       "      <th>31997</th>\n",
       "      <td>-0.013276</td>\n",
       "      <td>-0.700737</td>\n",
       "      <td>-0.091315</td>\n",
       "      <td>0.128191</td>\n",
       "      <td>-0.075705</td>\n",
       "      <td>-0.006395</td>\n",
       "      <td>0.007161</td>\n",
       "      <td>-2.554506</td>\n",
       "      <td>0.583586</td>\n",
       "      <td>-0.713765</td>\n",
       "      <td>...</td>\n",
       "      <td>-0.070427</td>\n",
       "      <td>-0.076950</td>\n",
       "      <td>0.049628</td>\n",
       "      <td>-0.006403</td>\n",
       "      <td>-0.004764</td>\n",
       "      <td>0.039353</td>\n",
       "      <td>0.171019</td>\n",
       "      <td>-0.815614</td>\n",
       "      <td>0.013694</td>\n",
       "      <td>-0.022199</td>\n",
       "    </tr>\n",
       "    <tr>\n",
       "      <th>31998</th>\n",
       "      <td>0.296454</td>\n",
       "      <td>-0.504147</td>\n",
       "      <td>-0.529519</td>\n",
       "      <td>0.129032</td>\n",
       "      <td>-0.098551</td>\n",
       "      <td>-0.006363</td>\n",
       "      <td>-0.566875</td>\n",
       "      <td>-0.928662</td>\n",
       "      <td>0.785311</td>\n",
       "      <td>-0.499218</td>\n",
       "      <td>...</td>\n",
       "      <td>-0.070694</td>\n",
       "      <td>-0.102029</td>\n",
       "      <td>0.050040</td>\n",
       "      <td>-0.006369</td>\n",
       "      <td>-0.004700</td>\n",
       "      <td>-0.568283</td>\n",
       "      <td>0.214371</td>\n",
       "      <td>-0.856747</td>\n",
       "      <td>-0.298233</td>\n",
       "      <td>-0.022199</td>\n",
       "    </tr>\n",
       "    <tr>\n",
       "      <th>31999</th>\n",
       "      <td>-0.026725</td>\n",
       "      <td>-0.575870</td>\n",
       "      <td>-0.410068</td>\n",
       "      <td>0.128038</td>\n",
       "      <td>-0.094109</td>\n",
       "      <td>-0.006393</td>\n",
       "      <td>-0.392223</td>\n",
       "      <td>-0.068532</td>\n",
       "      <td>-0.205428</td>\n",
       "      <td>-0.587615</td>\n",
       "      <td>...</td>\n",
       "      <td>-0.070408</td>\n",
       "      <td>-0.097413</td>\n",
       "      <td>0.049789</td>\n",
       "      <td>-0.006403</td>\n",
       "      <td>-0.004765</td>\n",
       "      <td>-0.402178</td>\n",
       "      <td>0.173096</td>\n",
       "      <td>0.195477</td>\n",
       "      <td>0.026879</td>\n",
       "      <td>-0.022199</td>\n",
       "    </tr>\n",
       "  </tbody>\n",
       "</table>\n",
       "<p>32000 rows × 24 columns</p>\n",
       "</div>"
      ],
      "text/plain": [
       "       raw_pred     plain      snip     grasp    fisher  synflow_bn  \\\n",
       "0      0.808829 -0.019027 -0.626710  0.125610 -0.098956   -0.006425   \n",
       "1      0.705424  0.158555 -0.607197  0.125268 -0.099245   -0.006425   \n",
       "2      0.689851 -0.059438 -0.228119  0.095264 -0.074380   -0.006346   \n",
       "3      0.860613 -0.530414 -0.499652  0.126315 -0.092442   -0.006425   \n",
       "4      0.789001 -0.529616 -0.524713  0.128309 -0.096118   -0.006425   \n",
       "...         ...       ...       ...       ...       ...         ...   \n",
       "31995 -0.453825 -0.301348 -0.250697  0.124988 -0.094667   -0.006425   \n",
       "31996  0.670678 -0.679400 -0.379451  0.128312 -0.090313   -0.006394   \n",
       "31997 -0.013276 -0.700737 -0.091315  0.128191 -0.075705   -0.006395   \n",
       "31998  0.296454 -0.504147 -0.529519  0.129032 -0.098551   -0.006363   \n",
       "31999 -0.026725 -0.575870 -0.410068  0.128038 -0.094109   -0.006393   \n",
       "\n",
       "       grad_norm  jacob_cov      pred  pred_x_plain  ...  raw_pred_x_grasp  \\\n",
       "0      -0.646135   0.821593 -0.439298     -0.021666  ...         -0.072301   \n",
       "1      -0.649792   0.944564  0.451822      0.204660  ...         -0.072165   \n",
       "2      -0.057215  -1.343932  0.189788     -0.038590  ...         -0.080921   \n",
       "3      -0.460189   0.747266 -0.507158     -0.544549  ...         -0.072162   \n",
       "4      -0.496643   0.420460  0.077874     -0.536124  ...         -0.071349   \n",
       "...          ...        ...       ...           ...  ...               ...   \n",
       "31995  -0.378255   0.539014  0.386856     -0.288806  ...         -0.069258   \n",
       "31996  -0.261863  -0.247148  0.270822     -0.692309  ...         -0.071212   \n",
       "31997   0.007161  -2.554506  0.583586     -0.713765  ...         -0.070427   \n",
       "31998  -0.566875  -0.928662  0.785311     -0.499218  ...         -0.070694   \n",
       "31999  -0.392223  -0.068532 -0.205428     -0.587615  ...         -0.070408   \n",
       "\n",
       "       pred_x_fisher  raw_pred_x_fisher  pred_x_synflow_bn  \\\n",
       "0          -0.102534           0.050174          -0.006435   \n",
       "1          -0.102809           0.050046          -0.006435   \n",
       "2          -0.076051           0.057645          -0.006354   \n",
       "3          -0.095778           0.052685          -0.006435   \n",
       "4          -0.099473           0.051161          -0.006435   \n",
       "...              ...                ...                ...   \n",
       "31995      -0.097832           0.048819          -0.006435   \n",
       "31996      -0.093159           0.052692          -0.006403   \n",
       "31997      -0.076950           0.049628          -0.006403   \n",
       "31998      -0.102029           0.050040          -0.006369   \n",
       "31999      -0.097413           0.049789          -0.006403   \n",
       "\n",
       "       raw_pred_x_synflow_bn  pred_x_grad_norm  raw_pred_x_grad_norm  \\\n",
       "0                  -0.004761         -0.663106              0.241730   \n",
       "1                  -0.004761         -0.659893              0.232522   \n",
       "2                  -0.004577         -0.044687              0.439873   \n",
       "3                  -0.004761         -0.476942              0.327552   \n",
       "4                  -0.004761         -0.504189              0.300494   \n",
       "...                      ...               ...                   ...   \n",
       "31995              -0.004761         -0.374677              0.080993   \n",
       "31996              -0.004691         -0.255529              0.362586   \n",
       "31997              -0.004764          0.039353              0.171019   \n",
       "31998              -0.004700         -0.568283              0.214371   \n",
       "31999              -0.004765         -0.402178              0.173096   \n",
       "\n",
       "       pred_x_jacob_cov  raw_pred_x_jacob_cov   synflow  \n",
       "0              0.505509             -0.806918 -0.022199  \n",
       "1             -0.349829             -0.703323 -0.022199  \n",
       "2             -0.311433             -0.695593 -0.022199  \n",
       "3              0.564767             -0.858901 -0.022199  \n",
       "4             -0.035453             -0.788703 -0.022199  \n",
       "...                 ...                   ...       ...  \n",
       "31995         -0.325396              0.453489 -0.022199  \n",
       "31996         -0.286986             -0.672625 -0.022199  \n",
       "31997         -0.815614              0.013694 -0.022199  \n",
       "31998         -0.856747             -0.298233 -0.022199  \n",
       "31999          0.195477              0.026879 -0.022199  \n",
       "\n",
       "[32000 rows x 24 columns]"
      ]
     },
     "execution_count": 72,
     "metadata": {},
     "output_type": "execute_result"
    }
   ],
   "source": [
    "from copy import deepcopy\n",
    "\n",
    "X_train = new_train_df[predictor_cols]\n",
    "y_train = new_train_df[\"target\"]\n",
    "\n",
    "X_train_copy = deepcopy(X_train)\n",
    "for col in X_train.columns:\n",
    "    X_train_copy[col] = (X_train[col] - X_train[col].mean())/X_train[col].std()\n",
    "X_train_copy"
   ]
  },
  {
   "cell_type": "code",
   "execution_count": 322,
   "metadata": {},
   "outputs": [
    {
     "name": "stdout",
     "output_type": "stream",
     "text": [
      "SignificanceResult(statistic=0.9859344529584093, pvalue=0.0)\n"
     ]
    }
   ],
   "source": [
    "import numpy as np\n",
    "from sklearn.linear_model import LinearRegression\n",
    "X_train = new_train_df[predictor_cols]\n",
    "y_train = new_train_df[\"target\"]\n",
    "X_train_copy = deepcopy(X_train)\n",
    "for col in X_train.columns:\n",
    "    if col == \"synflow\":\n",
    "        val = np.log10(X_train['synflow']).replace([np.inf, -np.inf], 0)\n",
    "        standard_val = (val - np.mean(val))/np.std(val)\n",
    "        X_train_copy['synflow'] = standard_val\n",
    "        X_train_copy['synflow'] = X_train_copy['synflow'].fillna(0)\n",
    "    else:\n",
    "        X_train_copy[col] = (X_train[col] - X_train[col].mean())/X_train[col].std()\n",
    "lambda_val = np.abs(np.mean(X_train['raw_pred']))\n",
    "rf = RandomForestRegressor(n_estimators=100, random_state=109)\n",
    "rf.fit(X_train[predictor_cols2], y_train)\n",
    "y_pred = rf.predict(X_train[predictor_cols2])\n",
    "X_train_copy['vote'] = (1/lambda_val)*y_pred + lambda_val*(X_train_copy['synflow'] + X_train_copy['jacob_cov'])\n",
    "X_train_copy['vote'] = (X_train_copy['vote'] - X_train_copy['vote'].mean()) / X_train_copy['vote'].std()\n",
    "print(spearmanr(X_train_copy['vote'], y_train))\n"
   ]
  },
  {
   "cell_type": "code",
   "execution_count": 307,
   "metadata": {},
   "outputs": [
    {
     "data": {
      "text/plain": [
       "Index(['raw_pred', 'plain', 'snip', 'grasp', 'fisher', 'synflow_bn',\n",
       "       'grad_norm', 'jacob_cov', 'pred', 'pred_x_plain', 'raw_pred_x_plain',\n",
       "       'pred_x_snip', 'raw_pred_x_snip', 'pred_x_grasp', 'raw_pred_x_grasp',\n",
       "       'pred_x_fisher', 'raw_pred_x_fisher', 'pred_x_synflow_bn',\n",
       "       'raw_pred_x_synflow_bn', 'pred_x_grad_norm', 'raw_pred_x_grad_norm',\n",
       "       'pred_x_jacob_cov', 'raw_pred_x_jacob_cov'],\n",
       "      dtype='object')"
      ]
     },
     "execution_count": 307,
     "metadata": {},
     "output_type": "execute_result"
    }
   ],
   "source": [
    "X_train_copy.columns"
   ]
  },
  {
   "cell_type": "code",
   "execution_count": 285,
   "metadata": {},
   "outputs": [
    {
     "name": "stdout",
     "output_type": "stream",
     "text": [
      "SignificanceResult(statistic=0.37242443343508563, pvalue=0.0)\n"
     ]
    }
   ],
   "source": [
    "print(spearmanr(X_train_copy['synflow'], y_train))\n"
   ]
  },
  {
   "cell_type": "code",
   "execution_count": 324,
   "metadata": {},
   "outputs": [
    {
     "data": {
      "image/png": "[encoded data removed]",
      "text/plain": [
       "<Figure size 800x600 with 1 Axes>"
      ]
     },
     "metadata": {},
     "output_type": "display_data"
    }
   ],
   "source": [
    "import matplotlib.pyplot as plt\n",
    "import numpy as np\n",
    "# Obtain feature importances\n",
    "importances = rf.feature_importances_\n",
    "std = np.std([tree.feature_importances_ for tree in rf.estimators_], axis=0)\n",
    "indices = np.argsort(importances)[::-1]\n",
    "labels = [X_train_copy[predictor_cols2].columns[i] for i in indices]\n",
    "# Plot the feature importances\n",
    "plt.figure(figsize=(8,6))\n",
    "plt.title(\"Feature importances\")\n",
    "plt.bar(range(X_train_copy[predictor_cols2].shape[1]), importances[indices], yerr=std[indices], align=\"center\")\n",
    "plt.xticks(range(X_train_copy[predictor_cols2].shape[1]), labels, rotation=90)\n",
    "plt.xlim([-1, X_train_copy[predictor_cols2].shape[1]])\n",
    "plt.show()"
   ]
  },
  {
   "cell_type": "code",
   "execution_count": 326,
   "metadata": {},
   "outputs": [
    {
     "data": {
      "text/plain": [
       "SignificanceResult(statistic=0.9034971742371579, pvalue=0.0)"
      ]
     },
     "execution_count": 326,
     "metadata": {},
     "output_type": "execute_result"
    }
   ],
   "source": [
    "import numpy as np\n",
    "X_test = new_test_df[predictor_cols]\n",
    "y_test = new_test_df[\"target\"]\n",
    "X_test_copy = deepcopy(X_test)\n",
    "for col in X_test.columns:\n",
    "    if col == \"synflow\":\n",
    "        val = np.log10(X_test['synflow']).replace([np.inf, -np.inf], 0)\n",
    "        standard_val = (val - np.mean(val))/np.std(val)\n",
    "        X_test_copy['synflow'] = standard_val\n",
    "        X_test_copy['synflow'] = X_test_copy['synflow'].fillna(0)\n",
    "    else:\n",
    "        X_test_copy[col] = (X_test[col] - X_test[col].mean())/X_test[col].std()\n",
    "lambda_val = np.abs(np.mean(X_test['raw_pred']))\n",
    "y_pred = rf.predict(X_test[predictor_cols2])\n",
    "X_test_copy['vote'] = (1/lambda_val)*y_pred + lambda_val*(X_test_copy['synflow'] + X_test_copy['jacob_cov'])\n",
    "X_test_copy['vote'] = (X_test_copy['vote'] - X_test_copy['vote'].mean()) / X_test_copy['vote'].std()\n",
    "spearmanr(y_pred, y_test)"
   ]
  },
  {
   "cell_type": "code",
   "execution_count": 327,
   "metadata": {},
   "outputs": [
    {
     "name": "stderr",
     "output_type": "stream",
     "text": [
      "/opt/conda/envs/test/lib/python3.9/site-packages/pandas/core/arraylike.py:402: RuntimeWarning: divide by zero encountered in log10\n",
      "  result = getattr(ufunc, method)(*inputs, **kwargs)\n"
     ]
    },
    {
     "data": {
      "text/plain": [
       "SignificanceResult(statistic=0.7552166496883418, pvalue=0.0)"
      ]
     },
     "execution_count": 327,
     "metadata": {},
     "output_type": "execute_result"
    }
   ],
   "source": [
    "import numpy as np\n",
    "X_test = new_test_201_cf10_df[predictor_cols]\n",
    "y_test = new_test_201_cf10_df[\"target\"]\n",
    "X_test_copy = deepcopy(X_test)\n",
    "for col in X_test.columns:\n",
    "    if col == \"synflow\":\n",
    "        val = np.log10(X_test['synflow']).replace([np.inf, -np.inf], 0)\n",
    "        standard_val = (val - np.mean(val))/np.std(val)\n",
    "        X_test_copy['synflow'] = standard_val\n",
    "        X_test_copy['synflow'] = X_test_copy['synflow'].fillna(0)\n",
    "    else:\n",
    "        X_test_copy[col] = (X_test[col] - X_test[col].mean())/X_test[col].std()\n",
    "lambda_val = np.abs(np.mean(X_test['raw_pred']))\n",
    "y_pred = rf.predict(X_test[predictor_cols2])\n",
    "X_test_copy['vote'] = (1/lambda_val)*y_pred + lambda_val*(X_test_copy['synflow'] + X_test_copy['jacob_cov'])\n",
    "X_test_copy['vote'] = (X_test_copy['vote'] - X_test_copy['vote'].mean()) / X_test_copy['vote'].std()\n",
    "spearmanr(X_test_copy['vote'], y_test)"
   ]
  },
  {
   "cell_type": "code",
   "execution_count": 337,
   "metadata": {},
   "outputs": [
    {
     "data": {
      "text/plain": [
       "SignificanceResult(statistic=0.7555716623335613, pvalue=0.0)"
      ]
     },
     "execution_count": 337,
     "metadata": {},
     "output_type": "execute_result"
    }
   ],
   "source": [
    "X_test_copy['vote'] = (1/lambda_val)*y_pred + lambda_val*(X_test_copy['synflow'] + X_test_copy['jacob_cov'] + X_test_copy['grasp'])\n",
    "X_test_copy['vote'] = (X_test_copy['vote'] - X_test_copy['vote'].mean()) / X_test_copy['vote'].std()\n",
    "spearmanr(X_test_copy['vote'], y_test)"
   ]
  },
  {
   "cell_type": "code",
   "execution_count": 330,
   "metadata": {},
   "outputs": [
    {
     "data": {
      "text/plain": [
       "SignificanceResult(statistic=0.7552701836146974, pvalue=0.0)"
      ]
     },
     "execution_count": 330,
     "metadata": {},
     "output_type": "execute_result"
    }
   ],
   "source": [
    "X_test_copy[\"y_pred\"] = y_pred\n",
    "x_test_train = X_test_copy[['synflow', 'jacob_cov', 'y_pred']]\n",
    "l_reg = LinearRegression()\n",
    "l_reg.fit(x_test_train, y_test)\n",
    "new_y_pred = l_reg.predict(x_test_train)\n",
    "spearmanr(new_y_pred, y_test)"
   ]
  },
  {
   "cell_type": "code",
   "execution_count": 271,
   "metadata": {},
   "outputs": [
    {
     "name": "stdout",
     "output_type": "stream",
     "text": [
      "6.015743976465702\n"
     ]
    },
    {
     "name": "stderr",
     "output_type": "stream",
     "text": [
      "/opt/conda/envs/test/lib/python3.9/site-packages/pandas/core/arraylike.py:402: RuntimeWarning: divide by zero encountered in log10\n",
      "  result = getattr(ufunc, method)(*inputs, **kwargs)\n"
     ]
    },
    {
     "data": {
      "text/plain": [
       "SignificanceResult(statistic=0.7833639248948105, pvalue=0.0)"
      ]
     },
     "execution_count": 271,
     "metadata": {},
     "output_type": "execute_result"
    }
   ],
   "source": [
    "import numpy as np\n",
    "X_test = new_test_201_cf100_df[predictor_cols]\n",
    "y_test = new_test_201_cf100_df[\"target\"]\n",
    "X_test_copy = deepcopy(X_test)\n",
    "for col in X_test.columns:\n",
    "    if col == \"synflow\":\n",
    "        val = np.log10(X_test['synflow']).replace([np.inf, -np.inf], 0)\n",
    "        standard_val = (val - np.mean(val))/np.std(val)\n",
    "        X_test_copy['synflow'] = standard_val\n",
    "        X_test_copy['synflow'] = X_test_copy['synflow'].fillna(0)\n",
    "    else:\n",
    "        X_test_copy[col] = (X_test[col] - X_test[col].mean())/X_test[col].std()\n",
    "lambda_val = np.abs(np.mean(X_test['raw_pred']))\n",
    "print(lambda_val)\n",
    "X_test_copy['vote'] = (-1/lambda_val)*X_test_copy['pred_x_jacob_cov'] + lambda_val*(X_test_copy['synflow'] + X_test_copy['jacob_cov'])\n",
    "X_test_copy['vote'] = (X_test_copy['vote'] - X_test_copy['vote'].mean()) / X_test_copy['vote'].std()\n",
    "spearmanr(X_test_copy['vote'], y_test)"
   ]
  },
  {
   "cell_type": "code",
   "execution_count": 272,
   "metadata": {},
   "outputs": [
    {
     "name": "stdout",
     "output_type": "stream",
     "text": [
      "6.015743976465702\n"
     ]
    },
    {
     "name": "stderr",
     "output_type": "stream",
     "text": [
      "/opt/conda/envs/test/lib/python3.9/site-packages/pandas/core/arraylike.py:402: RuntimeWarning: divide by zero encountered in log10\n",
      "  result = getattr(ufunc, method)(*inputs, **kwargs)\n"
     ]
    },
    {
     "data": {
      "text/plain": [
       "SignificanceResult(statistic=0.761050836580245, pvalue=0.0)"
      ]
     },
     "execution_count": 272,
     "metadata": {},
     "output_type": "execute_result"
    }
   ],
   "source": [
    "import numpy as np\n",
    "X_test = new_test_201_imgnet_df[predictor_cols]\n",
    "y_test = new_test_201_imgnet_df[\"target\"]\n",
    "X_test_copy = deepcopy(X_test)\n",
    "for col in X_test.columns:\n",
    "    if col == \"synflow\":\n",
    "        val = np.log10(X_test['synflow']).replace([np.inf, -np.inf], 0)\n",
    "        standard_val = (val - np.mean(val))/np.std(val)\n",
    "        X_test_copy['synflow'] = standard_val\n",
    "        X_test_copy['synflow'] = X_test_copy['synflow'].fillna(0)\n",
    "    else:\n",
    "        X_test_copy[col] = (X_test[col] - X_test[col].mean())/X_test[col].std()\n",
    "lambda_val = np.abs(np.mean(X_test['raw_pred']))\n",
    "print(lambda_val)\n",
    "X_test_copy['vote'] = (-1/lambda_val)*X_test_copy['pred_x_jacob_cov'] + lambda_val*(X_test_copy['synflow'] + X_test_copy['jacob_cov'])\n",
    "X_test_copy['vote'] = (X_test_copy['vote'] - X_test_copy['vote'].mean()) / X_test_copy['vote'].std()\n",
    "spearmanr(X_test_copy['vote'], y_test)"
   ]
  },
  {
   "cell_type": "code",
   "execution_count": 26,
   "metadata": {},
   "outputs": [
    {
     "name": "stdout",
     "output_type": "stream",
     "text": [
      "NAS-101 CIFAR10 Results\n",
      "Mean Squared Error: 0.0037019660863479823\n",
      "R-squared: 0.33728585942262956\n",
      "Spearman correlation coefficient: 0.912119215833608\n",
      "p-value: 0.0\n"
     ]
    }
   ],
   "source": [
    "from scipy.stats import spearmanr\n",
    "\n",
    "print(\"NAS-101 CIFAR10 Results\")\n",
    "X_test = new_test_df[predictor_cols]\n",
    "y_test = new_test_df[\"target\"]\n",
    "\n",
    "y_pred = rf.predict(X_test)\n",
    "\n",
    "mse = mean_squared_error(y_test, y_pred)\n",
    "r2 = r2_score(y_test, y_pred)\n",
    "print(\"Mean Squared Error:\", mse)\n",
    "print(\"R-squared:\", r2)\n",
    "\n",
    "correlation, p_value = spearmanr(y_test, y_pred)\n",
    "\n",
    "print(\"Spearman correlation coefficient:\", correlation)\n",
    "print(\"p-value:\", p_value)"
   ]
  },
  {
   "cell_type": "code",
   "execution_count": 38,
   "metadata": {},
   "outputs": [
    {
     "data": {
      "text/plain": [
       "SignificanceResult(statistic=-0.24108444697225923, pvalue=1.9173720016360744e-205)"
      ]
     },
     "execution_count": 38,
     "metadata": {},
     "output_type": "execute_result"
    }
   ],
   "source": [
    "spearmanr(new_test_201_imgnet_df['synflow_bn'], new_test_201_imgnet_df[\"target\"])"
   ]
  },
  {
   "cell_type": "code",
   "execution_count": 23,
   "metadata": {},
   "outputs": [
    {
     "name": "stdout",
     "output_type": "stream",
     "text": [
      "NAS201 Imagenet Results\n",
      "Mean Squared Error: 0.2993132449314927\n",
      "R-squared: -32.069227447930494\n",
      "Spearman correlation coefficient: 0.49852281802055604\n",
      "p-value: 0.0\n"
     ]
    }
   ],
   "source": [
    "print(\"NAS201 Imagenet Results\")\n",
    "X_test = new_test_201_imgnet_df[predictor_cols]\n",
    "y_test = new_test_201_imgnet_df[\"target\"]\n",
    "\n",
    "rf.feature_importances_\n",
    "y_pred = rf.predict(X_test)\n",
    "\n",
    "mse = mean_squared_error(y_test, y_pred)\n",
    "r2 = r2_score(y_test, y_pred)\n",
    "print(\"Mean Squared Error:\", mse)\n",
    "print(\"R-squared:\", r2)\n",
    "\n",
    "correlation, p_value = spearmanr(X_test['jacob_cov'], y_pred)\n",
    "\n",
    "print(\"Spearman correlation coefficient:\", correlation)\n",
    "print(\"p-value:\", p_value)"
   ]
  },
  {
   "cell_type": "code",
   "execution_count": 16,
   "metadata": {},
   "outputs": [
    {
     "name": "stdout",
     "output_type": "stream",
     "text": [
      "NAS201 CIFAR-10 Results\n",
      "Mean Squared Error: 0.2237299862598076\n",
      "R-squared: -12.841344186937398\n",
      "Spearman correlation coefficient: 0.07531812015033977\n",
      "p-value: 4.2036354986926624e-21\n"
     ]
    }
   ],
   "source": [
    "print(\"NAS201 CIFAR-10 Results\")\n",
    "X_test = new_test_201_cf10_df[predictor_cols]\n",
    "y_test = new_test_201_cf10_df[\"target\"]\n",
    "\n",
    "y_pred = rf.predict(X_test)\n",
    "\n",
    "mse = mean_squared_error(y_test, y_pred)\n",
    "r2 = r2_score(y_test, y_pred)\n",
    "print(\"Mean Squared Error:\", mse)\n",
    "print(\"R-squared:\", r2)\n",
    "\n",
    "correlation, p_value = spearmanr(y_test, y_pred)\n",
    "\n",
    "print(\"Spearman correlation coefficient:\", correlation)\n",
    "print(\"p-value:\", p_value)"
   ]
  },
  {
   "cell_type": "code",
   "execution_count": 17,
   "metadata": {},
   "outputs": [
    {
     "name": "stdout",
     "output_type": "stream",
     "text": [
      "NAS201 CIFAR-100 Results\n",
      "Mean Squared Error: 0.07419146743851363\n",
      "R-squared: -4.007678094543472\n",
      "Spearman correlation coefficient: 0.030724201911068845\n",
      "p-value: 0.0001224718632423116\n"
     ]
    }
   ],
   "source": [
    "print(\"NAS201 CIFAR-100 Results\")\n",
    "X_test = new_test_201_cf100_df[predictor_cols]\n",
    "y_test = new_test_201_cf100_df[\"target\"]\n",
    "\n",
    "y_pred = rf.predict(X_test)\n",
    "\n",
    "mse = mean_squared_error(y_test, y_pred)\n",
    "r2 = r2_score(y_test, y_pred)\n",
    "print(\"Mean Squared Error:\", mse)\n",
    "print(\"R-squared:\", r2)\n",
    "\n",
    "correlation, p_value = spearmanr(y_test, y_pred)\n",
    "\n",
    "print(\"Spearman correlation coefficient:\", correlation)\n",
    "print(\"p-value:\", p_value)"
   ]
  },
  {
   "cell_type": "code",
   "execution_count": 27,
   "metadata": {},
   "outputs": [
    {
     "data": {
      "image/png": "[encoded data removed]",
      "text/plain": [
       "<Figure size 800x600 with 1 Axes>"
      ]
     },
     "metadata": {},
     "output_type": "display_data"
    }
   ],
   "source": [
    "import matplotlib.pyplot as plt\n",
    "import numpy as np\n",
    "# Obtain feature importances\n",
    "importances = rf.feature_importances_\n",
    "std = np.std([tree.feature_importances_ for tree in rf.estimators_], axis=0)\n",
    "indices = np.argsort(importances)[::-1]\n",
    "labels = [X_train.columns[i] for i in indices]\n",
    "# Plot the feature importances\n",
    "plt.figure(figsize=(8,6))\n",
    "plt.title(\"Feature importances\")\n",
    "plt.bar(range(X_train.shape[1]), importances[indices], yerr=std[indices], align=\"center\")\n",
    "plt.xticks(range(X_train.shape[1]), labels, rotation=90)\n",
    "plt.xlim([-1, X_train.shape[1]])\n",
    "plt.show()"
   ]
  },
  {
   "cell_type": "code",
   "execution_count": 50,
   "metadata": {},
   "outputs": [
    {
     "data": {
      "text/html": [
       "<style>#sk-container-id-4 {color: black;background-color: white;}#sk-container-id-4 pre{padding: 0;}#sk-container-id-4 div.sk-toggleable {background-color: white;}#sk-container-id-4 label.sk-toggleable__label {cursor: pointer;display: block;width: 100%;margin-bottom: 0;padding: 0.3em;box-sizing: border-box;text-align: center;}#sk-container-id-4 label.sk-toggleable__label-arrow:before {content: \"▸\";float: left;margin-right: 0.25em;color: #696969;}#sk-container-id-4 label.sk-toggleable__label-arrow:hover:before {color: black;}#sk-container-id-4 div.sk-estimator:hover label.sk-toggleable__label-arrow:before {color: black;}#sk-container-id-4 div.sk-toggleable__content {max-height: 0;max-width: 0;overflow: hidden;text-align: left;background-color: #f0f8ff;}#sk-container-id-4 div.sk-toggleable__content pre {margin: 0.2em;color: black;border-radius: 0.25em;background-color: #f0f8ff;}#sk-container-id-4 input.sk-toggleable__control:checked~div.sk-toggleable__content {max-height: 200px;max-width: 100%;overflow: auto;}#sk-container-id-4 input.sk-toggleable__control:checked~label.sk-toggleable__label-arrow:before {content: \"▾\";}#sk-container-id-4 div.sk-estimator input.sk-toggleable__control:checked~label.sk-toggleable__label {background-color: #d4ebff;}#sk-container-id-4 div.sk-label input.sk-toggleable__control:checked~label.sk-toggleable__label {background-color: #d4ebff;}#sk-container-id-4 input.sk-hidden--visually {border: 0;clip: rect(1px 1px 1px 1px);clip: rect(1px, 1px, 1px, 1px);height: 1px;margin: -1px;overflow: hidden;padding: 0;position: absolute;width: 1px;}#sk-container-id-4 div.sk-estimator {font-family: monospace;background-color: #f0f8ff;border: 1px dotted black;border-radius: 0.25em;box-sizing: border-box;margin-bottom: 0.5em;}#sk-container-id-4 div.sk-estimator:hover {background-color: #d4ebff;}#sk-container-id-4 div.sk-parallel-item::after {content: \"\";width: 100%;border-bottom: 1px solid gray;flex-grow: 1;}#sk-container-id-4 div.sk-label:hover label.sk-toggleable__label {background-color: #d4ebff;}#sk-container-id-4 div.sk-serial::before {content: \"\";position: absolute;border-left: 1px solid gray;box-sizing: border-box;top: 0;bottom: 0;left: 50%;z-index: 0;}#sk-container-id-4 div.sk-serial {display: flex;flex-direction: column;align-items: center;background-color: white;padding-right: 0.2em;padding-left: 0.2em;position: relative;}#sk-container-id-4 div.sk-item {position: relative;z-index: 1;}#sk-container-id-4 div.sk-parallel {display: flex;align-items: stretch;justify-content: center;background-color: white;position: relative;}#sk-container-id-4 div.sk-item::before, #sk-container-id-4 div.sk-parallel-item::before {content: \"\";position: absolute;border-left: 1px solid gray;box-sizing: border-box;top: 0;bottom: 0;left: 50%;z-index: -1;}#sk-container-id-4 div.sk-parallel-item {display: flex;flex-direction: column;z-index: 1;position: relative;background-color: white;}#sk-container-id-4 div.sk-parallel-item:first-child::after {align-self: flex-end;width: 50%;}#sk-container-id-4 div.sk-parallel-item:last-child::after {align-self: flex-start;width: 50%;}#sk-container-id-4 div.sk-parallel-item:only-child::after {width: 0;}#sk-container-id-4 div.sk-dashed-wrapped {border: 1px dashed gray;margin: 0 0.4em 0.5em 0.4em;box-sizing: border-box;padding-bottom: 0.4em;background-color: white;}#sk-container-id-4 div.sk-label label {font-family: monospace;font-weight: bold;display: inline-block;line-height: 1.2em;}#sk-container-id-4 div.sk-label-container {text-align: center;}#sk-container-id-4 div.sk-container {/* jupyter's `normalize.less` sets `[hidden] { display: none; }` but bootstrap.min.css set `[hidden] { display: none !important; }` so we also need the `!important` here to be able to override the default hidden behavior on the sphinx rendered scikit-learn.org. See: https://github.com/scikit-learn/scikit-learn/issues/21755 */display: inline-block !important;position: relative;}#sk-container-id-4 div.sk-text-repr-fallback {display: none;}</style><div id=\"sk-container-id-4\" class=\"sk-top-container\"><div class=\"sk-text-repr-fallback\"><pre>RandomForestRegressor(random_state=109)</pre><b>In a Jupyter environment, please rerun this cell to show the HTML representation or trust the notebook. <br />On GitHub, the HTML representation is unable to render, please try loading this page with nbviewer.org.</b></div><div class=\"sk-container\" hidden><div class=\"sk-item\"><div class=\"sk-estimator sk-toggleable\"><input class=\"sk-toggleable__control sk-hidden--visually\" id=\"sk-estimator-id-4\" type=\"checkbox\" checked><label for=\"sk-estimator-id-4\" class=\"sk-toggleable__label sk-toggleable__label-arrow\">RandomForestRegressor</label><div class=\"sk-toggleable__content\"><pre>RandomForestRegressor(random_state=109)</pre></div></div></div></div></div>"
      ],
      "text/plain": [
       "RandomForestRegressor(random_state=109)"
      ]
     },
     "execution_count": 50,
     "metadata": {},
     "output_type": "execute_result"
    }
   ],
   "source": [
    "X_train = new_test_201_imgnet_df[predictor_cols]\n",
    "y_train = new_test_201_imgnet_df[\"target\"]\n",
    "\n",
    "rf201 = RandomForestRegressor(n_estimators=100, random_state=109)\n",
    "rf201.fit(X_train, y_train)"
   ]
  },
  {
   "cell_type": "code",
   "execution_count": 52,
   "metadata": {},
   "outputs": [
    {
     "name": "stdout",
     "output_type": "stream",
     "text": [
      "Overfit NAS201 Imagenet Results\n",
      "Mean Squared Error: 7.273443318324889e-05\n",
      "R-squared: 0.9919640324811431\n",
      "Spearman correlation coefficient: 0.993189434717791\n",
      "p-value: 0.0\n"
     ]
    }
   ],
   "source": [
    "print(\"Overfit NAS201 Imagenet Results\")\n",
    "X_test = new_test_201_imgnet_df[predictor_cols]\n",
    "y_test = new_test_201_imgnet_df[\"target\"]\n",
    "\n",
    "y_pred = rf201.predict(X_test)\n",
    "\n",
    "mse = mean_squared_error(y_test, y_pred)\n",
    "r2 = r2_score(y_test, y_pred)\n",
    "print(\"Mean Squared Error:\", mse)\n",
    "print(\"R-squared:\", r2)\n",
    "\n",
    "correlation, p_value = spearmanr(y_test, y_pred)\n",
    "\n",
    "print(\"Spearman correlation coefficient:\", correlation)\n",
    "print(\"p-value:\", p_value)"
   ]
  },
  {
   "cell_type": "code",
   "execution_count": 54,
   "metadata": {},
   "outputs": [
    {
     "data": {
      "image/png": "[encoded data removed]",
      "text/plain": [
       "<Figure size 800x600 with 1 Axes>"
      ]
     },
     "metadata": {},
     "output_type": "display_data"
    }
   ],
   "source": [
    "import matplotlib.pyplot as plt\n",
    "import numpy as np\n",
    "# Obtain feature importances\n",
    "importances = rf201.feature_importances_\n",
    "std = np.std([tree.feature_importances_ for tree in rf.estimators_], axis=0)\n",
    "indices = np.argsort(importances)[::-1]\n",
    "labels = [X_train.columns[i] for i in indices]\n",
    "# Plot the feature importances\n",
    "plt.figure(figsize=(8,6))\n",
    "plt.title(\"Feature importances\")\n",
    "plt.bar(range(X_train.shape[1]), importances[indices], yerr=std[indices], align=\"center\")\n",
    "plt.xticks(range(X_train.shape[1]), labels, rotation=90)\n",
    "plt.xlim([-1, X_train.shape[1]])\n",
    "plt.show()"
   ]
  },
  {
   "cell_type": "code",
   "execution_count": 56,
   "metadata": {},
   "outputs": [
    {
     "data": {
      "text/html": [
       "<style>#sk-container-id-5 {color: black;background-color: white;}#sk-container-id-5 pre{padding: 0;}#sk-container-id-5 div.sk-toggleable {background-color: white;}#sk-container-id-5 label.sk-toggleable__label {cursor: pointer;display: block;width: 100%;margin-bottom: 0;padding: 0.3em;box-sizing: border-box;text-align: center;}#sk-container-id-5 label.sk-toggleable__label-arrow:before {content: \"▸\";float: left;margin-right: 0.25em;color: #696969;}#sk-container-id-5 label.sk-toggleable__label-arrow:hover:before {color: black;}#sk-container-id-5 div.sk-estimator:hover label.sk-toggleable__label-arrow:before {color: black;}#sk-container-id-5 div.sk-toggleable__content {max-height: 0;max-width: 0;overflow: hidden;text-align: left;background-color: #f0f8ff;}#sk-container-id-5 div.sk-toggleable__content pre {margin: 0.2em;color: black;border-radius: 0.25em;background-color: #f0f8ff;}#sk-container-id-5 input.sk-toggleable__control:checked~div.sk-toggleable__content {max-height: 200px;max-width: 100%;overflow: auto;}#sk-container-id-5 input.sk-toggleable__control:checked~label.sk-toggleable__label-arrow:before {content: \"▾\";}#sk-container-id-5 div.sk-estimator input.sk-toggleable__control:checked~label.sk-toggleable__label {background-color: #d4ebff;}#sk-container-id-5 div.sk-label input.sk-toggleable__control:checked~label.sk-toggleable__label {background-color: #d4ebff;}#sk-container-id-5 input.sk-hidden--visually {border: 0;clip: rect(1px 1px 1px 1px);clip: rect(1px, 1px, 1px, 1px);height: 1px;margin: -1px;overflow: hidden;padding: 0;position: absolute;width: 1px;}#sk-container-id-5 div.sk-estimator {font-family: monospace;background-color: #f0f8ff;border: 1px dotted black;border-radius: 0.25em;box-sizing: border-box;margin-bottom: 0.5em;}#sk-container-id-5 div.sk-estimator:hover {background-color: #d4ebff;}#sk-container-id-5 div.sk-parallel-item::after {content: \"\";width: 100%;border-bottom: 1px solid gray;flex-grow: 1;}#sk-container-id-5 div.sk-label:hover label.sk-toggleable__label {background-color: #d4ebff;}#sk-container-id-5 div.sk-serial::before {content: \"\";position: absolute;border-left: 1px solid gray;box-sizing: border-box;top: 0;bottom: 0;left: 50%;z-index: 0;}#sk-container-id-5 div.sk-serial {display: flex;flex-direction: column;align-items: center;background-color: white;padding-right: 0.2em;padding-left: 0.2em;position: relative;}#sk-container-id-5 div.sk-item {position: relative;z-index: 1;}#sk-container-id-5 div.sk-parallel {display: flex;align-items: stretch;justify-content: center;background-color: white;position: relative;}#sk-container-id-5 div.sk-item::before, #sk-container-id-5 div.sk-parallel-item::before {content: \"\";position: absolute;border-left: 1px solid gray;box-sizing: border-box;top: 0;bottom: 0;left: 50%;z-index: -1;}#sk-container-id-5 div.sk-parallel-item {display: flex;flex-direction: column;z-index: 1;position: relative;background-color: white;}#sk-container-id-5 div.sk-parallel-item:first-child::after {align-self: flex-end;width: 50%;}#sk-container-id-5 div.sk-parallel-item:last-child::after {align-self: flex-start;width: 50%;}#sk-container-id-5 div.sk-parallel-item:only-child::after {width: 0;}#sk-container-id-5 div.sk-dashed-wrapped {border: 1px dashed gray;margin: 0 0.4em 0.5em 0.4em;box-sizing: border-box;padding-bottom: 0.4em;background-color: white;}#sk-container-id-5 div.sk-label label {font-family: monospace;font-weight: bold;display: inline-block;line-height: 1.2em;}#sk-container-id-5 div.sk-label-container {text-align: center;}#sk-container-id-5 div.sk-container {/* jupyter's `normalize.less` sets `[hidden] { display: none; }` but bootstrap.min.css set `[hidden] { display: none !important; }` so we also need the `!important` here to be able to override the default hidden behavior on the sphinx rendered scikit-learn.org. See: https://github.com/scikit-learn/scikit-learn/issues/21755 */display: inline-block !important;position: relative;}#sk-container-id-5 div.sk-text-repr-fallback {display: none;}</style><div id=\"sk-container-id-5\" class=\"sk-top-container\"><div class=\"sk-text-repr-fallback\"><pre>RandomForestRegressor(random_state=109)</pre><b>In a Jupyter environment, please rerun this cell to show the HTML representation or trust the notebook. <br />On GitHub, the HTML representation is unable to render, please try loading this page with nbviewer.org.</b></div><div class=\"sk-container\" hidden><div class=\"sk-item\"><div class=\"sk-estimator sk-toggleable\"><input class=\"sk-toggleable__control sk-hidden--visually\" id=\"sk-estimator-id-5\" type=\"checkbox\" checked><label for=\"sk-estimator-id-5\" class=\"sk-toggleable__label sk-toggleable__label-arrow\">RandomForestRegressor</label><div class=\"sk-toggleable__content\"><pre>RandomForestRegressor(random_state=109)</pre></div></div></div></div></div>"
      ],
      "text/plain": [
       "RandomForestRegressor(random_state=109)"
      ]
     },
     "execution_count": 56,
     "metadata": {},
     "output_type": "execute_result"
    }
   ],
   "source": [
    "X_train = new_test_201_cf10_df[predictor_cols]\n",
    "y_train = new_test_201_cf10_df[\"target\"]\n",
    "\n",
    "rf201 = RandomForestRegressor(n_estimators=100, random_state=109)\n",
    "rf201.fit(X_train, y_train)"
   ]
  },
  {
   "cell_type": "code",
   "execution_count": 57,
   "metadata": {},
   "outputs": [
    {
     "name": "stdout",
     "output_type": "stream",
     "text": [
      "NAS201 CIFAR-10 Results\n",
      "Mean Squared Error: 8.388151971157151e-05\n",
      "R-squared: 0.9948105615851468\n",
      "Spearman correlation coefficient: 0.9938447688903517\n",
      "p-value: 0.0\n"
     ]
    }
   ],
   "source": [
    "print(\"NAS201 CIFAR-10 Results\")\n",
    "X_test = new_test_201_cf10_df[predictor_cols]\n",
    "y_test = new_test_201_cf10_df[\"target\"]\n",
    "\n",
    "y_pred = rf201.predict(X_test)\n",
    "\n",
    "mse = mean_squared_error(y_test, y_pred)\n",
    "r2 = r2_score(y_test, y_pred)\n",
    "print(\"Mean Squared Error:\", mse)\n",
    "print(\"R-squared:\", r2)\n",
    "\n",
    "correlation, p_value = spearmanr(y_test, y_pred)\n",
    "\n",
    "print(\"Spearman correlation coefficient:\", correlation)\n",
    "print(\"p-value:\", p_value)"
   ]
  },
  {
   "cell_type": "code",
   "execution_count": 58,
   "metadata": {},
   "outputs": [
    {
     "data": {
      "image/png": "[encoded data removed]",
      "text/plain": [
       "<Figure size 800x600 with 1 Axes>"
      ]
     },
     "metadata": {},
     "output_type": "display_data"
    }
   ],
   "source": [
    "import matplotlib.pyplot as plt\n",
    "import numpy as np\n",
    "# Obtain feature importances\n",
    "importances = rf201.feature_importances_\n",
    "std = np.std([tree.feature_importances_ for tree in rf.estimators_], axis=0)\n",
    "indices = np.argsort(importances)[::-1]\n",
    "labels = [X_train.columns[i] for i in indices]\n",
    "# Plot the feature importances\n",
    "plt.figure(figsize=(8,6))\n",
    "plt.title(\"Feature importances\")\n",
    "plt.bar(range(X_train.shape[1]), importances[indices], yerr=std[indices], align=\"center\")\n",
    "plt.xticks(range(X_train.shape[1]), labels, rotation=90)\n",
    "plt.xlim([-1, X_train.shape[1]])\n",
    "plt.show()"
   ]
  },
  {
   "cell_type": "code",
   "execution_count": 81,
   "metadata": {},
   "outputs": [
    {
     "data": {
      "text/html": [
       "<style>#sk-container-id-8 {color: black;background-color: white;}#sk-container-id-8 pre{padding: 0;}#sk-container-id-8 div.sk-toggleable {background-color: white;}#sk-container-id-8 label.sk-toggleable__label {cursor: pointer;display: block;width: 100%;margin-bottom: 0;padding: 0.3em;box-sizing: border-box;text-align: center;}#sk-container-id-8 label.sk-toggleable__label-arrow:before {content: \"▸\";float: left;margin-right: 0.25em;color: #696969;}#sk-container-id-8 label.sk-toggleable__label-arrow:hover:before {color: black;}#sk-container-id-8 div.sk-estimator:hover label.sk-toggleable__label-arrow:before {color: black;}#sk-container-id-8 div.sk-toggleable__content {max-height: 0;max-width: 0;overflow: hidden;text-align: left;background-color: #f0f8ff;}#sk-container-id-8 div.sk-toggleable__content pre {margin: 0.2em;color: black;border-radius: 0.25em;background-color: #f0f8ff;}#sk-container-id-8 input.sk-toggleable__control:checked~div.sk-toggleable__content {max-height: 200px;max-width: 100%;overflow: auto;}#sk-container-id-8 input.sk-toggleable__control:checked~label.sk-toggleable__label-arrow:before {content: \"▾\";}#sk-container-id-8 div.sk-estimator input.sk-toggleable__control:checked~label.sk-toggleable__label {background-color: #d4ebff;}#sk-container-id-8 div.sk-label input.sk-toggleable__control:checked~label.sk-toggleable__label {background-color: #d4ebff;}#sk-container-id-8 input.sk-hidden--visually {border: 0;clip: rect(1px 1px 1px 1px);clip: rect(1px, 1px, 1px, 1px);height: 1px;margin: -1px;overflow: hidden;padding: 0;position: absolute;width: 1px;}#sk-container-id-8 div.sk-estimator {font-family: monospace;background-color: #f0f8ff;border: 1px dotted black;border-radius: 0.25em;box-sizing: border-box;margin-bottom: 0.5em;}#sk-container-id-8 div.sk-estimator:hover {background-color: #d4ebff;}#sk-container-id-8 div.sk-parallel-item::after {content: \"\";width: 100%;border-bottom: 1px solid gray;flex-grow: 1;}#sk-container-id-8 div.sk-label:hover label.sk-toggleable__label {background-color: #d4ebff;}#sk-container-id-8 div.sk-serial::before {content: \"\";position: absolute;border-left: 1px solid gray;box-sizing: border-box;top: 0;bottom: 0;left: 50%;z-index: 0;}#sk-container-id-8 div.sk-serial {display: flex;flex-direction: column;align-items: center;background-color: white;padding-right: 0.2em;padding-left: 0.2em;position: relative;}#sk-container-id-8 div.sk-item {position: relative;z-index: 1;}#sk-container-id-8 div.sk-parallel {display: flex;align-items: stretch;justify-content: center;background-color: white;position: relative;}#sk-container-id-8 div.sk-item::before, #sk-container-id-8 div.sk-parallel-item::before {content: \"\";position: absolute;border-left: 1px solid gray;box-sizing: border-box;top: 0;bottom: 0;left: 50%;z-index: -1;}#sk-container-id-8 div.sk-parallel-item {display: flex;flex-direction: column;z-index: 1;position: relative;background-color: white;}#sk-container-id-8 div.sk-parallel-item:first-child::after {align-self: flex-end;width: 50%;}#sk-container-id-8 div.sk-parallel-item:last-child::after {align-self: flex-start;width: 50%;}#sk-container-id-8 div.sk-parallel-item:only-child::after {width: 0;}#sk-container-id-8 div.sk-dashed-wrapped {border: 1px dashed gray;margin: 0 0.4em 0.5em 0.4em;box-sizing: border-box;padding-bottom: 0.4em;background-color: white;}#sk-container-id-8 div.sk-label label {font-family: monospace;font-weight: bold;display: inline-block;line-height: 1.2em;}#sk-container-id-8 div.sk-label-container {text-align: center;}#sk-container-id-8 div.sk-container {/* jupyter's `normalize.less` sets `[hidden] { display: none; }` but bootstrap.min.css set `[hidden] { display: none !important; }` so we also need the `!important` here to be able to override the default hidden behavior on the sphinx rendered scikit-learn.org. See: https://github.com/scikit-learn/scikit-learn/issues/21755 */display: inline-block !important;position: relative;}#sk-container-id-8 div.sk-text-repr-fallback {display: none;}</style><div id=\"sk-container-id-8\" class=\"sk-top-container\"><div class=\"sk-text-repr-fallback\"><pre>RandomForestRegressor(random_state=109)</pre><b>In a Jupyter environment, please rerun this cell to show the HTML representation or trust the notebook. <br />On GitHub, the HTML representation is unable to render, please try loading this page with nbviewer.org.</b></div><div class=\"sk-container\" hidden><div class=\"sk-item\"><div class=\"sk-estimator sk-toggleable\"><input class=\"sk-toggleable__control sk-hidden--visually\" id=\"sk-estimator-id-8\" type=\"checkbox\" checked><label for=\"sk-estimator-id-8\" class=\"sk-toggleable__label sk-toggleable__label-arrow\">RandomForestRegressor</label><div class=\"sk-toggleable__content\"><pre>RandomForestRegressor(random_state=109)</pre></div></div></div></div></div>"
      ],
      "text/plain": [
       "RandomForestRegressor(random_state=109)"
      ]
     },
     "execution_count": 81,
     "metadata": {},
     "output_type": "execute_result"
    }
   ],
   "source": [
    "X_train = new_test_201_cf100_df[predictor_cols]\n",
    "y_train = new_test_201_cf100_df[\"target\"]\n",
    "\n",
    "rf201 = RandomForestRegressor(n_estimators=100, random_state=109)\n",
    "rf201.fit(X_train, y_train)"
   ]
  },
  {
   "cell_type": "code",
   "execution_count": 82,
   "metadata": {},
   "outputs": [
    {
     "data": {
      "text/plain": [
       "array([0.00682731, 0.13493389, 0.57476462, 0.01251725, 0.06908151,\n",
       "       0.03979494, 0.05902129, 0.10305919])"
      ]
     },
     "execution_count": 82,
     "metadata": {},
     "output_type": "execute_result"
    }
   ],
   "source": [
    "rf201.feature_importances_"
   ]
  },
  {
   "cell_type": "code",
   "execution_count": 60,
   "metadata": {},
   "outputs": [
    {
     "name": "stdout",
     "output_type": "stream",
     "text": [
      "Overfit NAS201 CIFAR-100 Results\n",
      "Mean Squared Error: 9.87309926650893e-05\n",
      "R-squared: 0.9933359853054363\n",
      "Spearman correlation coefficient: 0.9942159142938307\n",
      "p-value: 0.0\n"
     ]
    }
   ],
   "source": [
    "print(\"Overfit NAS201 CIFAR-100 Results\")\n",
    "X_test = new_test_201_cf100_df[predictor_cols]\n",
    "y_test = new_test_201_cf100_df[\"target\"]\n",
    "\n",
    "y_pred = rf201.predict(X_test)\n",
    "\n",
    "mse = mean_squared_error(y_test, y_pred)\n",
    "r2 = r2_score(y_test, y_pred)\n",
    "print(\"Mean Squared Error:\", mse)\n",
    "print(\"R-squared:\", r2)\n",
    "\n",
    "correlation, p_value = spearmanr(y_test, y_pred)\n",
    "\n",
    "print(\"Spearman correlation coefficient:\", correlation)\n",
    "print(\"p-value:\", p_value)"
   ]
  },
  {
   "cell_type": "code",
   "execution_count": 61,
   "metadata": {},
   "outputs": [
    {
     "data": {
      "image/png": "[encoded data removed]",
      "text/plain": [
       "<Figure size 800x600 with 1 Axes>"
      ]
     },
     "metadata": {},
     "output_type": "display_data"
    }
   ],
   "source": [
    "import matplotlib.pyplot as plt\n",
    "import numpy as np\n",
    "# Obtain feature importances\n",
    "importances = rf201.feature_importances_\n",
    "std = np.std([tree.feature_importances_ for tree in rf.estimators_], axis=0)\n",
    "indices = np.argsort(importances)[::-1]\n",
    "labels = [X_train.columns[i] for i in indices]\n",
    "# Plot the feature importances\n",
    "plt.figure(figsize=(8,6))\n",
    "plt.title(\"Feature importances\")\n",
    "plt.bar(range(X_train.shape[1]), importances[indices], yerr=std[indices], align=\"center\")\n",
    "plt.xticks(range(X_train.shape[1]), labels, rotation=90)\n",
    "plt.xlim([-1, X_train.shape[1]])\n",
    "plt.show()"
   ]
  },
  {
   "cell_type": "markdown",
   "metadata": {},
   "source": [
    "## Elastic Net Model"
   ]
  },
  {
   "cell_type": "code",
   "execution_count": 64,
   "metadata": {},
   "outputs": [
    {
     "name": "stdout",
     "output_type": "stream",
     "text": [
      "NAS101 Test\n",
      "Mean Squared Error: 9.87309926650893e-05\n",
      "R-squared: 0.25277229169633364\n",
      "Spearman correlation coefficient: 0.6493761869779492\n",
      "p-value: 0.0\n",
      "NAS201 Imgnet Test\n",
      "Mean Squared Error: 9.87309926650893e-05\n",
      "R-squared: -5217.043596511263\n",
      "Spearman correlation coefficient: 0.36429863871901447\n",
      "p-value: 0.0\n"
     ]
    }
   ],
   "source": [
    "from sklearn.linear_model import ElasticNet\n",
    "\n",
    "X_train = new_train_df[predictor_cols]\n",
    "y_train = new_train_df[\"target\"]\n",
    "\n",
    "X_test = new_test_df[predictor_cols]\n",
    "y_test = new_test_df[\"target\"]\n",
    "\n",
    "new_X_test = new_test_201_imgnet_df[predictor_cols]\n",
    "new_y_test = new_test_201_imgnet_df[\"target\"]\n",
    "# Create an Elastic Net model\n",
    "model = ElasticNet(alpha=0.1, l1_ratio=0.9)\n",
    "\n",
    "# Fit the model to the training set\n",
    "model.fit(X_train, y_train)\n",
    "\n",
    "print(\"NAS101 Test\")\n",
    "y_pred = model.predict(X_test)\n",
    "xmse = mean_squared_error(y_test, y_pred)\n",
    "r2 = r2_score(y_test, y_pred)\n",
    "print(\"Mean Squared Error:\", mse)\n",
    "print(\"R-squared:\", r2)\n",
    "\n",
    "correlation, p_value = spearmanr(y_test, y_pred)\n",
    "\n",
    "print(\"Spearman correlation coefficient:\", correlation)\n",
    "print(\"p-value:\", p_value)\n",
    "\n",
    "print(\"NAS201 Imgnet Test\")\n",
    "new_y_pred = model.predict(new_X_test)\n",
    "xmse = mean_squared_error(new_y_test, new_y_pred)\n",
    "r2 = r2_score(new_y_test, new_y_pred)\n",
    "print(\"Mean Squared Error:\", mse)\n",
    "print(\"R-squared:\", r2)\n",
    "\n",
    "correlation, p_value = spearmanr(new_y_test, new_y_pred)\n",
    "\n",
    "print(\"Spearman correlation coefficient:\", correlation)\n",
    "print(\"p-value:\", p_value)\n",
    "\n"
   ]
  },
  {
   "cell_type": "code",
   "execution_count": 68,
   "metadata": {},
   "outputs": [],
   "source": [
    "l1_ratio_values = [0.0, 0.1, 0.2, 0.3, 0.4, 0.5, 0.6, 0.7, 0.8, 0.9, 1.0]\n",
    "alphas = [0.0, 0.1, 0.2, 0.3, 0.4, 0.5, 0.6, 0.7, 0.8, 0.9, 1.0]"
   ]
  },
  {
   "cell_type": "code",
   "execution_count": 66,
   "metadata": {},
   "outputs": [],
   "source": [
    "from tqdm import tqdm"
   ]
  },
  {
   "cell_type": "code",
   "execution_count": 70,
   "metadata": {},
   "outputs": [
    {
     "name": "stderr",
     "output_type": "stream",
     "text": [
      "  0%|          | 0/11 [00:00<?, ?it/s]/tmp/ipykernel_7831/1857597140.py:7: UserWarning: With alpha=0, this algorithm does not converge well. You are advised to use the LinearRegression estimator\n",
      "  model.fit(X_train, y_train)\n",
      "/opt/conda/envs/test/lib/python3.9/site-packages/sklearn/linear_model/_coordinate_descent.py:631: UserWarning: Coordinate descent with no regularization may lead to unexpected results and is discouraged.\n",
      "  model = cd_fast.enet_coordinate_descent(\n",
      "/opt/conda/envs/test/lib/python3.9/site-packages/sklearn/linear_model/_coordinate_descent.py:631: ConvergenceWarning: Objective did not converge. You might want to increase the number of iterations, check the scale of the features or consider increasing regularisation. Duality gap: 3.488e+01, tolerance: 1.470e-02 Linear regression models with null weight for the l1 regularization term are more efficiently fitted using one of the solvers implemented in sklearn.linear_model.Ridge/RidgeCV instead.\n",
      "  model = cd_fast.enet_coordinate_descent(\n",
      "/opt/conda/envs/test/lib/python3.9/site-packages/sklearn/linear_model/_coordinate_descent.py:631: ConvergenceWarning: Objective did not converge. You might want to increase the number of iterations, check the scale of the features or consider increasing regularisation. Duality gap: 3.527e+01, tolerance: 1.470e-02 Linear regression models with null weight for the l1 regularization term are more efficiently fitted using one of the solvers implemented in sklearn.linear_model.Ridge/RidgeCV instead.\n",
      "  model = cd_fast.enet_coordinate_descent(\n",
      "/opt/conda/envs/test/lib/python3.9/site-packages/sklearn/linear_model/_coordinate_descent.py:631: ConvergenceWarning: Objective did not converge. You might want to increase the number of iterations, check the scale of the features or consider increasing regularisation. Duality gap: 3.535e+01, tolerance: 1.470e-02 Linear regression models with null weight for the l1 regularization term are more efficiently fitted using one of the solvers implemented in sklearn.linear_model.Ridge/RidgeCV instead.\n",
      "  model = cd_fast.enet_coordinate_descent(\n",
      "/opt/conda/envs/test/lib/python3.9/site-packages/sklearn/linear_model/_coordinate_descent.py:631: ConvergenceWarning: Objective did not converge. You might want to increase the number of iterations, check the scale of the features or consider increasing regularisation. Duality gap: 3.540e+01, tolerance: 1.470e-02 Linear regression models with null weight for the l1 regularization term are more efficiently fitted using one of the solvers implemented in sklearn.linear_model.Ridge/RidgeCV instead.\n",
      "  model = cd_fast.enet_coordinate_descent(\n",
      "/opt/conda/envs/test/lib/python3.9/site-packages/sklearn/linear_model/_coordinate_descent.py:631: ConvergenceWarning: Objective did not converge. You might want to increase the number of iterations, check the scale of the features or consider increasing regularisation. Duality gap: 3.545e+01, tolerance: 1.470e-02 Linear regression models with null weight for the l1 regularization term are more efficiently fitted using one of the solvers implemented in sklearn.linear_model.Ridge/RidgeCV instead.\n",
      "  model = cd_fast.enet_coordinate_descent(\n",
      "/opt/conda/envs/test/lib/python3.9/site-packages/sklearn/linear_model/_coordinate_descent.py:631: ConvergenceWarning: Objective did not converge. You might want to increase the number of iterations, check the scale of the features or consider increasing regularisation. Duality gap: 3.549e+01, tolerance: 1.470e-02 Linear regression models with null weight for the l1 regularization term are more efficiently fitted using one of the solvers implemented in sklearn.linear_model.Ridge/RidgeCV instead.\n",
      "  model = cd_fast.enet_coordinate_descent(\n",
      "/opt/conda/envs/test/lib/python3.9/site-packages/sklearn/linear_model/_coordinate_descent.py:631: ConvergenceWarning: Objective did not converge. You might want to increase the number of iterations, check the scale of the features or consider increasing regularisation. Duality gap: 3.552e+01, tolerance: 1.470e-02 Linear regression models with null weight for the l1 regularization term are more efficiently fitted using one of the solvers implemented in sklearn.linear_model.Ridge/RidgeCV instead.\n",
      "  model = cd_fast.enet_coordinate_descent(\n",
      "/opt/conda/envs/test/lib/python3.9/site-packages/sklearn/linear_model/_coordinate_descent.py:631: ConvergenceWarning: Objective did not converge. You might want to increase the number of iterations, check the scale of the features or consider increasing regularisation. Duality gap: 3.555e+01, tolerance: 1.470e-02 Linear regression models with null weight for the l1 regularization term are more efficiently fitted using one of the solvers implemented in sklearn.linear_model.Ridge/RidgeCV instead.\n",
      "  model = cd_fast.enet_coordinate_descent(\n",
      "/opt/conda/envs/test/lib/python3.9/site-packages/sklearn/linear_model/_coordinate_descent.py:631: ConvergenceWarning: Objective did not converge. You might want to increase the number of iterations, check the scale of the features or consider increasing regularisation. Duality gap: 3.558e+01, tolerance: 1.470e-02 Linear regression models with null weight for the l1 regularization term are more efficiently fitted using one of the solvers implemented in sklearn.linear_model.Ridge/RidgeCV instead.\n",
      "  model = cd_fast.enet_coordinate_descent(\n",
      "/opt/conda/envs/test/lib/python3.9/site-packages/sklearn/linear_model/_coordinate_descent.py:631: ConvergenceWarning: Objective did not converge. You might want to increase the number of iterations, check the scale of the features or consider increasing regularisation. Duality gap: 3.560e+01, tolerance: 1.470e-02 Linear regression models with null weight for the l1 regularization term are more efficiently fitted using one of the solvers implemented in sklearn.linear_model.Ridge/RidgeCV instead.\n",
      "  model = cd_fast.enet_coordinate_descent(\n",
      "/opt/conda/envs/test/lib/python3.9/site-packages/sklearn/linear_model/_coordinate_descent.py:631: ConvergenceWarning: Objective did not converge. You might want to increase the number of iterations, check the scale of the features or consider increasing regularisation. Duality gap: 3.562e+01, tolerance: 1.470e-02 Linear regression models with null weight for the l1 regularization term are more efficiently fitted using one of the solvers implemented in sklearn.linear_model.Ridge/RidgeCV instead.\n",
      "  model = cd_fast.enet_coordinate_descent(\n",
      "  9%|▉         | 1/11 [00:09<01:32,  9.20s/it]/tmp/ipykernel_7831/1857597140.py:7: UserWarning: With alpha=0, this algorithm does not converge well. You are advised to use the LinearRegression estimator\n",
      "  model.fit(X_train, y_train)\n",
      "/opt/conda/envs/test/lib/python3.9/site-packages/sklearn/linear_model/_coordinate_descent.py:631: UserWarning: Coordinate descent with no regularization may lead to unexpected results and is discouraged.\n",
      "  model = cd_fast.enet_coordinate_descent(\n",
      "/opt/conda/envs/test/lib/python3.9/site-packages/sklearn/linear_model/_coordinate_descent.py:631: ConvergenceWarning: Objective did not converge. You might want to increase the number of iterations, check the scale of the features or consider increasing regularisation. Duality gap: 3.488e+01, tolerance: 1.470e-02 Linear regression models with null weight for the l1 regularization term are more efficiently fitted using one of the solvers implemented in sklearn.linear_model.Ridge/RidgeCV instead.\n",
      "  model = cd_fast.enet_coordinate_descent(\n",
      "/opt/conda/envs/test/lib/python3.9/site-packages/sklearn/linear_model/_coordinate_descent.py:631: ConvergenceWarning: Objective did not converge. You might want to increase the number of iterations, check the scale of the features or consider increasing regularisation. Duality gap: 2.750e+01, tolerance: 1.470e-02\n",
      "  model = cd_fast.enet_coordinate_descent(\n",
      "/opt/conda/envs/test/lib/python3.9/site-packages/sklearn/linear_model/_coordinate_descent.py:631: ConvergenceWarning: Objective did not converge. You might want to increase the number of iterations, check the scale of the features or consider increasing regularisation. Duality gap: 2.156e+01, tolerance: 1.470e-02\n",
      "  model = cd_fast.enet_coordinate_descent(\n",
      "/opt/conda/envs/test/lib/python3.9/site-packages/sklearn/linear_model/_coordinate_descent.py:631: ConvergenceWarning: Objective did not converge. You might want to increase the number of iterations, check the scale of the features or consider increasing regularisation. Duality gap: 1.643e+01, tolerance: 1.470e-02\n",
      "  model = cd_fast.enet_coordinate_descent(\n",
      "/opt/conda/envs/test/lib/python3.9/site-packages/sklearn/linear_model/_coordinate_descent.py:631: ConvergenceWarning: Objective did not converge. You might want to increase the number of iterations, check the scale of the features or consider increasing regularisation. Duality gap: 1.857e+01, tolerance: 1.470e-02\n",
      "  model = cd_fast.enet_coordinate_descent(\n",
      "/opt/conda/envs/test/lib/python3.9/site-packages/sklearn/linear_model/_coordinate_descent.py:631: ConvergenceWarning: Objective did not converge. You might want to increase the number of iterations, check the scale of the features or consider increasing regularisation. Duality gap: 1.340e+01, tolerance: 1.470e-02\n",
      "  model = cd_fast.enet_coordinate_descent(\n",
      "/opt/conda/envs/test/lib/python3.9/site-packages/sklearn/linear_model/_coordinate_descent.py:631: ConvergenceWarning: Objective did not converge. You might want to increase the number of iterations, check the scale of the features or consider increasing regularisation. Duality gap: 1.322e+01, tolerance: 1.470e-02\n",
      "  model = cd_fast.enet_coordinate_descent(\n",
      "/opt/conda/envs/test/lib/python3.9/site-packages/sklearn/linear_model/_coordinate_descent.py:631: ConvergenceWarning: Objective did not converge. You might want to increase the number of iterations, check the scale of the features or consider increasing regularisation. Duality gap: 2.366e+00, tolerance: 1.470e-02\n",
      "  model = cd_fast.enet_coordinate_descent(\n",
      " 18%|█▊        | 2/11 [00:13<00:58,  6.48s/it]/tmp/ipykernel_7831/1857597140.py:7: UserWarning: With alpha=0, this algorithm does not converge well. You are advised to use the LinearRegression estimator\n",
      "  model.fit(X_train, y_train)\n",
      "/opt/conda/envs/test/lib/python3.9/site-packages/sklearn/linear_model/_coordinate_descent.py:631: UserWarning: Coordinate descent with no regularization may lead to unexpected results and is discouraged.\n",
      "  model = cd_fast.enet_coordinate_descent(\n",
      "/opt/conda/envs/test/lib/python3.9/site-packages/sklearn/linear_model/_coordinate_descent.py:631: ConvergenceWarning: Objective did not converge. You might want to increase the number of iterations, check the scale of the features or consider increasing regularisation. Duality gap: 3.488e+01, tolerance: 1.470e-02 Linear regression models with null weight for the l1 regularization term are more efficiently fitted using one of the solvers implemented in sklearn.linear_model.Ridge/RidgeCV instead.\n",
      "  model = cd_fast.enet_coordinate_descent(\n",
      "/opt/conda/envs/test/lib/python3.9/site-packages/sklearn/linear_model/_coordinate_descent.py:631: ConvergenceWarning: Objective did not converge. You might want to increase the number of iterations, check the scale of the features or consider increasing regularisation. Duality gap: 2.158e+01, tolerance: 1.470e-02\n",
      "  model = cd_fast.enet_coordinate_descent(\n",
      "/opt/conda/envs/test/lib/python3.9/site-packages/sklearn/linear_model/_coordinate_descent.py:631: ConvergenceWarning: Objective did not converge. You might want to increase the number of iterations, check the scale of the features or consider increasing regularisation. Duality gap: 1.857e+01, tolerance: 1.470e-02\n",
      "  model = cd_fast.enet_coordinate_descent(\n",
      "/opt/conda/envs/test/lib/python3.9/site-packages/sklearn/linear_model/_coordinate_descent.py:631: ConvergenceWarning: Objective did not converge. You might want to increase the number of iterations, check the scale of the features or consider increasing regularisation. Duality gap: 1.316e+01, tolerance: 1.470e-02\n",
      "  model = cd_fast.enet_coordinate_descent(\n",
      "/opt/conda/envs/test/lib/python3.9/site-packages/sklearn/linear_model/_coordinate_descent.py:631: ConvergenceWarning: Objective did not converge. You might want to increase the number of iterations, check the scale of the features or consider increasing regularisation. Duality gap: 1.929e-01, tolerance: 1.470e-02\n",
      "  model = cd_fast.enet_coordinate_descent(\n",
      " 27%|██▋       | 3/11 [00:17<00:42,  5.29s/it]/tmp/ipykernel_7831/1857597140.py:7: UserWarning: With alpha=0, this algorithm does not converge well. You are advised to use the LinearRegression estimator\n",
      "  model.fit(X_train, y_train)\n",
      "/opt/conda/envs/test/lib/python3.9/site-packages/sklearn/linear_model/_coordinate_descent.py:631: UserWarning: Coordinate descent with no regularization may lead to unexpected results and is discouraged.\n",
      "  model = cd_fast.enet_coordinate_descent(\n",
      "/opt/conda/envs/test/lib/python3.9/site-packages/sklearn/linear_model/_coordinate_descent.py:631: ConvergenceWarning: Objective did not converge. You might want to increase the number of iterations, check the scale of the features or consider increasing regularisation. Duality gap: 3.488e+01, tolerance: 1.470e-02 Linear regression models with null weight for the l1 regularization term are more efficiently fitted using one of the solvers implemented in sklearn.linear_model.Ridge/RidgeCV instead.\n",
      "  model = cd_fast.enet_coordinate_descent(\n",
      "/opt/conda/envs/test/lib/python3.9/site-packages/sklearn/linear_model/_coordinate_descent.py:631: ConvergenceWarning: Objective did not converge. You might want to increase the number of iterations, check the scale of the features or consider increasing regularisation. Duality gap: 1.644e+01, tolerance: 1.470e-02\n",
      "  model = cd_fast.enet_coordinate_descent(\n",
      "/opt/conda/envs/test/lib/python3.9/site-packages/sklearn/linear_model/_coordinate_descent.py:631: ConvergenceWarning: Objective did not converge. You might want to increase the number of iterations, check the scale of the features or consider increasing regularisation. Duality gap: 1.315e+01, tolerance: 1.470e-02\n",
      "  model = cd_fast.enet_coordinate_descent(\n",
      "/opt/conda/envs/test/lib/python3.9/site-packages/sklearn/linear_model/_coordinate_descent.py:631: ConvergenceWarning: Objective did not converge. You might want to increase the number of iterations, check the scale of the features or consider increasing regularisation. Duality gap: 1.315e-01, tolerance: 1.470e-02\n",
      "  model = cd_fast.enet_coordinate_descent(\n",
      " 36%|███▋      | 4/11 [00:21<00:32,  4.70s/it]/tmp/ipykernel_7831/1857597140.py:7: UserWarning: With alpha=0, this algorithm does not converge well. You are advised to use the LinearRegression estimator\n",
      "  model.fit(X_train, y_train)\n",
      "/opt/conda/envs/test/lib/python3.9/site-packages/sklearn/linear_model/_coordinate_descent.py:631: UserWarning: Coordinate descent with no regularization may lead to unexpected results and is discouraged.\n",
      "  model = cd_fast.enet_coordinate_descent(\n",
      "/opt/conda/envs/test/lib/python3.9/site-packages/sklearn/linear_model/_coordinate_descent.py:631: ConvergenceWarning: Objective did not converge. You might want to increase the number of iterations, check the scale of the features or consider increasing regularisation. Duality gap: 3.488e+01, tolerance: 1.470e-02 Linear regression models with null weight for the l1 regularization term are more efficiently fitted using one of the solvers implemented in sklearn.linear_model.Ridge/RidgeCV instead.\n",
      "  model = cd_fast.enet_coordinate_descent(\n",
      "/opt/conda/envs/test/lib/python3.9/site-packages/sklearn/linear_model/_coordinate_descent.py:631: ConvergenceWarning: Objective did not converge. You might want to increase the number of iterations, check the scale of the features or consider increasing regularisation. Duality gap: 1.826e+01, tolerance: 1.470e-02\n",
      "  model = cd_fast.enet_coordinate_descent(\n",
      "/opt/conda/envs/test/lib/python3.9/site-packages/sklearn/linear_model/_coordinate_descent.py:631: ConvergenceWarning: Objective did not converge. You might want to increase the number of iterations, check the scale of the features or consider increasing regularisation. Duality gap: 1.936e-01, tolerance: 1.470e-02\n",
      "  model = cd_fast.enet_coordinate_descent(\n",
      " 45%|████▌     | 5/11 [00:24<00:24,  4.06s/it]/tmp/ipykernel_7831/1857597140.py:7: UserWarning: With alpha=0, this algorithm does not converge well. You are advised to use the LinearRegression estimator\n",
      "  model.fit(X_train, y_train)\n",
      "/opt/conda/envs/test/lib/python3.9/site-packages/sklearn/linear_model/_coordinate_descent.py:631: UserWarning: Coordinate descent with no regularization may lead to unexpected results and is discouraged.\n",
      "  model = cd_fast.enet_coordinate_descent(\n",
      "/opt/conda/envs/test/lib/python3.9/site-packages/sklearn/linear_model/_coordinate_descent.py:631: ConvergenceWarning: Objective did not converge. You might want to increase the number of iterations, check the scale of the features or consider increasing regularisation. Duality gap: 3.488e+01, tolerance: 1.470e-02 Linear regression models with null weight for the l1 regularization term are more efficiently fitted using one of the solvers implemented in sklearn.linear_model.Ridge/RidgeCV instead.\n",
      "  model = cd_fast.enet_coordinate_descent(\n",
      "/opt/conda/envs/test/lib/python3.9/site-packages/sklearn/linear_model/_coordinate_descent.py:631: ConvergenceWarning: Objective did not converge. You might want to increase the number of iterations, check the scale of the features or consider increasing regularisation. Duality gap: 1.331e+01, tolerance: 1.470e-02\n",
      "  model = cd_fast.enet_coordinate_descent(\n",
      "/opt/conda/envs/test/lib/python3.9/site-packages/sklearn/linear_model/_coordinate_descent.py:631: ConvergenceWarning: Objective did not converge. You might want to increase the number of iterations, check the scale of the features or consider increasing regularisation. Duality gap: 1.937e-01, tolerance: 1.470e-02\n",
      "  model = cd_fast.enet_coordinate_descent(\n",
      " 55%|█████▍    | 6/11 [00:27<00:18,  3.60s/it]/tmp/ipykernel_7831/1857597140.py:7: UserWarning: With alpha=0, this algorithm does not converge well. You are advised to use the LinearRegression estimator\n",
      "  model.fit(X_train, y_train)\n",
      "/opt/conda/envs/test/lib/python3.9/site-packages/sklearn/linear_model/_coordinate_descent.py:631: UserWarning: Coordinate descent with no regularization may lead to unexpected results and is discouraged.\n",
      "  model = cd_fast.enet_coordinate_descent(\n",
      "/opt/conda/envs/test/lib/python3.9/site-packages/sklearn/linear_model/_coordinate_descent.py:631: ConvergenceWarning: Objective did not converge. You might want to increase the number of iterations, check the scale of the features or consider increasing regularisation. Duality gap: 3.488e+01, tolerance: 1.470e-02 Linear regression models with null weight for the l1 regularization term are more efficiently fitted using one of the solvers implemented in sklearn.linear_model.Ridge/RidgeCV instead.\n",
      "  model = cd_fast.enet_coordinate_descent(\n",
      "/opt/conda/envs/test/lib/python3.9/site-packages/sklearn/linear_model/_coordinate_descent.py:631: ConvergenceWarning: Objective did not converge. You might want to increase the number of iterations, check the scale of the features or consider increasing regularisation. Duality gap: 1.313e+01, tolerance: 1.470e-02\n",
      "  model = cd_fast.enet_coordinate_descent(\n",
      " 64%|██████▎   | 7/11 [00:29<00:13,  3.29s/it]/tmp/ipykernel_7831/1857597140.py:7: UserWarning: With alpha=0, this algorithm does not converge well. You are advised to use the LinearRegression estimator\n",
      "  model.fit(X_train, y_train)\n",
      "/opt/conda/envs/test/lib/python3.9/site-packages/sklearn/linear_model/_coordinate_descent.py:631: UserWarning: Coordinate descent with no regularization may lead to unexpected results and is discouraged.\n",
      "  model = cd_fast.enet_coordinate_descent(\n",
      "/opt/conda/envs/test/lib/python3.9/site-packages/sklearn/linear_model/_coordinate_descent.py:631: ConvergenceWarning: Objective did not converge. You might want to increase the number of iterations, check the scale of the features or consider increasing regularisation. Duality gap: 3.488e+01, tolerance: 1.470e-02 Linear regression models with null weight for the l1 regularization term are more efficiently fitted using one of the solvers implemented in sklearn.linear_model.Ridge/RidgeCV instead.\n",
      "  model = cd_fast.enet_coordinate_descent(\n",
      "/opt/conda/envs/test/lib/python3.9/site-packages/sklearn/linear_model/_coordinate_descent.py:631: ConvergenceWarning: Objective did not converge. You might want to increase the number of iterations, check the scale of the features or consider increasing regularisation. Duality gap: 2.911e+00, tolerance: 1.470e-02\n",
      "  model = cd_fast.enet_coordinate_descent(\n",
      "/opt/conda/envs/test/lib/python3.9/site-packages/sklearn/linear_model/_coordinate_descent.py:631: ConvergenceWarning: Objective did not converge. You might want to increase the number of iterations, check the scale of the features or consider increasing regularisation. Duality gap: 1.319e-01, tolerance: 1.470e-02\n",
      "  model = cd_fast.enet_coordinate_descent(\n",
      " 73%|███████▎  | 8/11 [00:32<00:09,  3.06s/it]/tmp/ipykernel_7831/1857597140.py:7: UserWarning: With alpha=0, this algorithm does not converge well. You are advised to use the LinearRegression estimator\n",
      "  model.fit(X_train, y_train)\n",
      "/opt/conda/envs/test/lib/python3.9/site-packages/sklearn/linear_model/_coordinate_descent.py:631: UserWarning: Coordinate descent with no regularization may lead to unexpected results and is discouraged.\n",
      "  model = cd_fast.enet_coordinate_descent(\n",
      "/opt/conda/envs/test/lib/python3.9/site-packages/sklearn/linear_model/_coordinate_descent.py:631: ConvergenceWarning: Objective did not converge. You might want to increase the number of iterations, check the scale of the features or consider increasing regularisation. Duality gap: 3.488e+01, tolerance: 1.470e-02 Linear regression models with null weight for the l1 regularization term are more efficiently fitted using one of the solvers implemented in sklearn.linear_model.Ridge/RidgeCV instead.\n",
      "  model = cd_fast.enet_coordinate_descent(\n",
      " 82%|████████▏ | 9/11 [00:34<00:05,  2.78s/it]/tmp/ipykernel_7831/1857597140.py:7: UserWarning: With alpha=0, this algorithm does not converge well. You are advised to use the LinearRegression estimator\n",
      "  model.fit(X_train, y_train)\n",
      "/opt/conda/envs/test/lib/python3.9/site-packages/sklearn/linear_model/_coordinate_descent.py:631: UserWarning: Coordinate descent with no regularization may lead to unexpected results and is discouraged.\n",
      "  model = cd_fast.enet_coordinate_descent(\n",
      "/opt/conda/envs/test/lib/python3.9/site-packages/sklearn/linear_model/_coordinate_descent.py:631: ConvergenceWarning: Objective did not converge. You might want to increase the number of iterations, check the scale of the features or consider increasing regularisation. Duality gap: 3.488e+01, tolerance: 1.470e-02 Linear regression models with null weight for the l1 regularization term are more efficiently fitted using one of the solvers implemented in sklearn.linear_model.Ridge/RidgeCV instead.\n",
      "  model = cd_fast.enet_coordinate_descent(\n",
      " 91%|█████████ | 10/11 [00:36<00:02,  2.63s/it]/tmp/ipykernel_7831/1857597140.py:7: UserWarning: With alpha=0, this algorithm does not converge well. You are advised to use the LinearRegression estimator\n",
      "  model.fit(X_train, y_train)\n",
      "/opt/conda/envs/test/lib/python3.9/site-packages/sklearn/linear_model/_coordinate_descent.py:631: UserWarning: Coordinate descent with no regularization may lead to unexpected results and is discouraged.\n",
      "  model = cd_fast.enet_coordinate_descent(\n",
      "/opt/conda/envs/test/lib/python3.9/site-packages/sklearn/linear_model/_coordinate_descent.py:631: ConvergenceWarning: Objective did not converge. You might want to increase the number of iterations, check the scale of the features or consider increasing regularisation. Duality gap: 3.488e+01, tolerance: 1.470e-02 Linear regression models with null weight for the l1 regularization term are more efficiently fitted using one of the solvers implemented in sklearn.linear_model.Ridge/RidgeCV instead.\n",
      "  model = cd_fast.enet_coordinate_descent(\n",
      "/opt/conda/envs/test/lib/python3.9/site-packages/sklearn/linear_model/_coordinate_descent.py:631: ConvergenceWarning: Objective did not converge. You might want to increase the number of iterations, check the scale of the features or consider increasing regularisation. Duality gap: 1.940e-01, tolerance: 1.470e-02\n",
      "  model = cd_fast.enet_coordinate_descent(\n",
      "100%|██████████| 11/11 [00:38<00:00,  3.54s/it]\n"
     ]
    }
   ],
   "source": [
    "data = []\n",
    "for l1_ratio in tqdm(l1_ratio_values):\n",
    "    for alpha in alphas:\n",
    "        model = ElasticNet(alpha=alpha, l1_ratio=l1_ratio)\n",
    "\n",
    "        # Fit the model to the training set\n",
    "        model.fit(X_train, y_train)\n",
    "\n",
    "        y_pred = model.predict(X_test)\n",
    "        correlation1, p_value1 = spearmanr(y_test, y_pred)\n",
    "        new_y_pred = model.predict(new_X_test)\n",
    "        correlation2, p_value2 = spearmanr(new_y_test, new_y_pred)\n",
    "        data.append((correlation1, correlation2, alpha, l1_ratio))\n",
    "        data.sort(key=lambda x: x[0])"
   ]
  },
  {
   "cell_type": "code",
   "execution_count": 71,
   "metadata": {},
   "outputs": [
    {
     "data": {
      "text/plain": [
       "[(0.10202224033833032, 0.4818747193425797, 1.0, 1.0),\n",
       " (0.10224027230319505, 0.4823643630413858, 0.9, 1.0),\n",
       " (0.10224073102279155, 0.4823641466026909, 1.0, 0.9),\n",
       " (0.10229487146645445, 0.483081816198792, 0.9, 0.9),\n",
       " (0.10229891678641985, 0.4832056822922186, 1.0, 0.8),\n",
       " (0.10229962310022331, 0.48320593858729205, 0.8, 1.0),\n",
       " (0.11027579219475754, 0.48020982822092734, 0.9, 0.8),\n",
       " (0.11027644516471256, 0.4802098284647214, 0.8, 0.9),\n",
       " (0.11529911377749154, 0.47826840541056187, 1.0, 0.7),\n",
       " (0.11530015121690608, 0.4782681647120097, 0.7, 1.0),\n",
       " (0.13122303413286662, 0.4737523400684323, 0.8, 0.8),\n",
       " (0.13389033446145693, 0.4731956386058119, 0.9, 0.7),\n",
       " (0.13389249671544723, 0.47319533080572784, 0.7, 0.9),\n",
       " (0.14243531023068923, 0.4719266967895722, 1.0, 0.6),\n",
       " (0.1424421702120989, 0.47192471086923066, 0.6, 1.0),\n",
       " (0.15458805215783422, 0.4689877856079972, 0.8, 0.7),\n",
       " (0.1545897626297408, 0.46898712104456697, 0.7, 0.8),\n",
       " (0.16058681532193625, 0.4675472298355609, 0.9, 0.6),\n",
       " (0.1605912487676179, 0.4675459921377228, 0.6, 0.9),\n",
       " (0.17266558742507446, 0.4640904110701984, 1.0, 0.5),\n",
       " (0.17267618963214018, 0.46408797938284513, 0.5, 1.0),\n",
       " (0.17568713346990364, 0.46323728786843804, 0.7, 0.7),\n",
       " (0.17885494019089798, 0.4624847384833325, 0.8, 0.6),\n",
       " (0.17886097395203293, 0.4624834359724799, 0.6, 0.8),\n",
       " (0.188283953654068, 0.46045403068478147, 0.9, 0.5),\n",
       " (0.18829507973710052, 0.4604519809580586, 0.5, 0.9),\n",
       " (0.19789983989960036, 0.4583644847297731, 0.7, 0.6),\n",
       " (0.19790253746707853, 0.4583633952303444, 0.6, 0.7),\n",
       " (0.20375015360224796, 0.4571014006702798, 1.0, 0.4),\n",
       " (0.20375313270149573, 0.4570999854023667, 0.8, 0.5),\n",
       " (0.20375858239905278, 0.45709778004230545, 0.5, 0.8),\n",
       " (0.20376216337441125, 0.4570968403833563, 0.4, 1.0),\n",
       " (0.21564575352360305, 0.4544596548025345, 0.9, 0.4),\n",
       " (0.21565313016221618, 0.4544574958168009, 0.6, 0.6),\n",
       " (0.2156588957978563, 0.4544564517605643, 0.4, 0.9),\n",
       " (0.21856361000207944, 0.4538189475382485, 0.7, 0.5),\n",
       " (0.21857111339092647, 0.45381785209653885, 0.5, 0.7),\n",
       " (0.22715958155292137, 0.45189643625860515, 0.8, 0.4),\n",
       " (0.22717697736627426, 0.4518930711770207, 0.4, 0.8),\n",
       " (0.23306453351265052, 0.45063105541631976, 1.0, 0.3),\n",
       " (0.23308387511084427, 0.45062794907875836, 0.6, 0.5),\n",
       " (0.23308971134036466, 0.45062726006043585, 0.5, 0.6),\n",
       " (0.2331023639574643, 0.45062529760093656, 0.3, 1.0),\n",
       " (0.23844479631659776, 0.448932887436721, 0.7, 0.4),\n",
       " (0.23847001567563858, 0.4489336403841084, 0.4, 0.7),\n",
       " (0.24087755574360714, 0.44781437346099584, 0.9, 0.3),\n",
       " (0.2409149653438943, 0.44781531721568335, 0.3, 0.9),\n",
       " (0.24561432823503226, 0.44560408230068893, 0.5, 0.5),\n",
       " (0.2479538573337407, 0.4444956339998703, 0.8, 0.3),\n",
       " (0.24796542057382995, 0.4444953741170937, 0.6, 0.4),\n",
       " (0.2479776952839822, 0.44449550628015266, 0.4, 0.6),\n",
       " (0.24798455442164033, 0.4444955040812885, 0.3, 0.8),\n",
       " (0.2558265813623734, 0.4410280877990151, 0.7, 0.3),\n",
       " (0.25585189981534706, 0.44102786277562744, 0.3, 0.7),\n",
       " (0.2583563781247092, 0.4398961066235359, 1.0, 0.2),\n",
       " (0.25839189040899496, 0.43989591441638665, 0.5, 0.4),\n",
       " (0.25839839263974446, 0.43989608822102494, 0.4, 0.5),\n",
       " (0.2584081781890531, 0.4398956745152766, 0.2, 1.0),\n",
       " (0.3191775760227753, 0.41233696984584034, 0.9, 0.2),\n",
       " (0.31942306844456664, 0.41233647881966157, 0.6, 0.3),\n",
       " (0.3196508854899891, 0.41233866928155327, 0.3, 0.6),\n",
       " (0.3197249374391474, 0.41234065597102526, 0.2, 0.9),\n",
       " (0.40145520004861884, 0.4194549615451769, 0.8, 0.2),\n",
       " (0.4021780399450758, 0.4195038085553244, 0.4, 0.4),\n",
       " (0.4025257114304324, 0.4195256503870754, 0.2, 0.8),\n",
       " (0.4423698094602883, 0.41922824797183406, 0.5, 0.3),\n",
       " (0.44284448261751874, 0.4192447938975188, 0.3, 0.5),\n",
       " (0.4808232882988414, 0.4168601871618562, 0.7, 0.2),\n",
       " (0.4821565798218496, 0.4167556624346222, 0.2, 0.7),\n",
       " (0.5546371901116511, 0.40135826964232757, 0.6, 0.2),\n",
       " (0.5553331575522666, 0.4012027497153522, 0.4, 0.3),\n",
       " (0.5556531807053499, 0.4011200332234902, 0.3, 0.4),\n",
       " (0.5560042649782545, 0.4010229496569517, 0.2, 0.6),\n",
       " (0.6177246185356575, 0.37803118522257756, 1.0, 0.1),\n",
       " (0.6195591704837115, 0.37746657273754336, 0.5, 0.2),\n",
       " (0.6206462565211126, 0.37705265955837214, 0.2, 0.5),\n",
       " (0.621026317003741, 0.37691102526650183, 0.1, 1.0),\n",
       " (0.646441124905221, 0.3654456972636265, 0.9, 0.1),\n",
       " (0.6486421003419871, 0.364572825559779, 0.3, 0.3),\n",
       " (0.6493761869779492, 0.36429863871901447, 0.1, 0.9),\n",
       " (0.6725032989388757, 0.35271744322063137, 0.8, 0.1),\n",
       " (0.6739736634335938, 0.351806261480859, 0.4, 0.2),\n",
       " (0.6747102949180024, 0.35144953057504164, 0.2, 0.4),\n",
       " (0.67507380605759, 0.3513046599420934, 0.1, 0.8),\n",
       " (0.6987225923562347, 0.3369289482955567, 0.7, 0.1),\n",
       " (0.7012852047728798, 0.33483478920224236, 0.1, 0.7),\n",
       " (0.7247156883561601, 0.31250621032654374, 0.6, 0.1),\n",
       " (0.725878424126918, 0.3105136388300582, 0.3, 0.2),\n",
       " (0.726283773624966, 0.30981473300509893, 0.2, 0.3),\n",
       " (0.7266703713071584, 0.3092685628480986, 0.1, 0.6),\n",
       " (0.7474248858583508, 0.28304178234020844, 0.5, 0.1),\n",
       " (0.748918261145534, 0.28096856935451114, 0.1, 0.5),\n",
       " (0.7666523091851394, 0.2454702358228025, 0.4, 0.1),\n",
       " (0.7672068444585005, 0.24452089706319757, 0.2, 0.2),\n",
       " (0.767491756390538, 0.24406209359461833, 0.1, 0.4),\n",
       " (0.7815759041319749, 0.21207537116280695, 0.3, 0.1),\n",
       " (0.782142381864875, 0.2100094929885932, 0.1, 0.3),\n",
       " (0.7954464895417954, 0.1579976104736214, 0.2, 0.1),\n",
       " (0.7957066560219168, 0.15659854923029295, 0.1, 0.2),\n",
       " (0.8090920331925652, 0.08731101541161497, 0.1, 0.1),\n",
       " (0.8271464797609465, -0.25747420403694504, 1.0, 0.0),\n",
       " (0.8277760826728404, -0.26085608694241835, 0.9, 0.0),\n",
       " (0.8284421151207126, -0.26421425645560837, 0.8, 0.0),\n",
       " (0.8291347356801517, -0.26748311177409795, 0.7, 0.0),\n",
       " (0.8299458247707172, -0.27051964132749207, 0.6, 0.0),\n",
       " (0.8308613765853122, -0.2733332158552597, 0.5, 0.0),\n",
       " (0.8318369162293614, -0.2755586082387578, 0.4, 0.0),\n",
       " (0.8329418279246587, -0.2767295061840945, 0.3, 0.0),\n",
       " (0.8341341003436746, -0.2755221415147244, 0.2, 0.0),\n",
       " (0.8351062470752123, -0.2673393158462179, 0.1, 0.0),\n",
       " (0.8356657721077816, -0.17638932680823363, 0.0, 0.0),\n",
       " (0.8356657721077816, -0.17638932680823363, 0.0, 0.1),\n",
       " (0.8356657721077816, -0.17638932680823363, 0.0, 0.2),\n",
       " (0.8356657721077816, -0.17638932680823363, 0.0, 0.3),\n",
       " (0.8356657721077816, -0.17638932680823363, 0.0, 0.4),\n",
       " (0.8356657721077816, -0.17638932680823363, 0.0, 0.5),\n",
       " (0.8356657721077816, -0.17638932680823363, 0.0, 0.6),\n",
       " (0.8356657721077816, -0.17638932680823363, 0.0, 0.7),\n",
       " (0.8356657721077816, -0.17638932680823363, 0.0, 0.8),\n",
       " (0.8356657721077816, -0.17638932680823363, 0.0, 0.9),\n",
       " (0.8356657721077816, -0.17638932680823363, 0.0, 1.0)]"
      ]
     },
     "execution_count": 71,
     "metadata": {},
     "output_type": "execute_result"
    }
   ],
   "source": [
    "data"
   ]
  },
  {
   "cell_type": "code",
   "execution_count": 74,
   "metadata": {},
   "outputs": [
    {
     "data": {
      "text/plain": [
       "[(0.6739736634335938, 0.351806261480859, 0.4, 0.2),\n",
       " (0.6747102949180024, 0.35144953057504164, 0.2, 0.4),\n",
       " (0.67507380605759, 0.3513046599420934, 0.1, 0.8),\n",
       " (0.6987225923562347, 0.3369289482955567, 0.7, 0.1),\n",
       " (0.7012852047728798, 0.33483478920224236, 0.1, 0.7),\n",
       " (0.7247156883561601, 0.31250621032654374, 0.6, 0.1),\n",
       " (0.725878424126918, 0.3105136388300582, 0.3, 0.2),\n",
       " (0.726283773624966, 0.30981473300509893, 0.2, 0.3),\n",
       " (0.7266703713071584, 0.3092685628480986, 0.1, 0.6),\n",
       " (0.7474248858583508, 0.28304178234020844, 0.5, 0.1),\n",
       " (0.748918261145534, 0.28096856935451114, 0.1, 0.5),\n",
       " (0.7666523091851394, 0.2454702358228025, 0.4, 0.1),\n",
       " (0.7672068444585005, 0.24452089706319757, 0.2, 0.2),\n",
       " (0.767491756390538, 0.24406209359461833, 0.1, 0.4),\n",
       " (0.7815759041319749, 0.21207537116280695, 0.3, 0.1),\n",
       " (0.782142381864875, 0.2100094929885932, 0.1, 0.3),\n",
       " (0.7954464895417954, 0.1579976104736214, 0.2, 0.1),\n",
       " (0.7957066560219168, 0.15659854923029295, 0.1, 0.2),\n",
       " (0.8090920331925652, 0.08731101541161497, 0.1, 0.1),\n",
       " (0.8271464797609465, -0.25747420403694504, 1.0, 0.0),\n",
       " (0.8277760826728404, -0.26085608694241835, 0.9, 0.0),\n",
       " (0.8284421151207126, -0.26421425645560837, 0.8, 0.0),\n",
       " (0.8291347356801517, -0.26748311177409795, 0.7, 0.0),\n",
       " (0.8299458247707172, -0.27051964132749207, 0.6, 0.0),\n",
       " (0.8308613765853122, -0.2733332158552597, 0.5, 0.0),\n",
       " (0.8318369162293614, -0.2755586082387578, 0.4, 0.0),\n",
       " (0.8329418279246587, -0.2767295061840945, 0.3, 0.0),\n",
       " (0.8341341003436746, -0.2755221415147244, 0.2, 0.0),\n",
       " (0.8351062470752123, -0.2673393158462179, 0.1, 0.0),\n",
       " (0.8356657721077816, -0.17638932680823363, 0.0, 0.0),\n",
       " (0.8356657721077816, -0.17638932680823363, 0.0, 0.1),\n",
       " (0.8356657721077816, -0.17638932680823363, 0.0, 0.2),\n",
       " (0.8356657721077816, -0.17638932680823363, 0.0, 0.3),\n",
       " (0.8356657721077816, -0.17638932680823363, 0.0, 0.4),\n",
       " (0.8356657721077816, -0.17638932680823363, 0.0, 0.5),\n",
       " (0.8356657721077816, -0.17638932680823363, 0.0, 0.6),\n",
       " (0.8356657721077816, -0.17638932680823363, 0.0, 0.7),\n",
       " (0.8356657721077816, -0.17638932680823363, 0.0, 0.8),\n",
       " (0.8356657721077816, -0.17638932680823363, 0.0, 0.9),\n",
       " (0.8356657721077816, -0.17638932680823363, 0.0, 1.0)]"
      ]
     },
     "execution_count": 74,
     "metadata": {},
     "output_type": "execute_result"
    }
   ],
   "source": [
    "data[-40:]"
   ]
  },
  {
   "cell_type": "markdown",
   "metadata": {},
   "source": [
    "## Linear Regression"
   ]
  },
  {
   "cell_type": "code",
   "execution_count": 85,
   "metadata": {},
   "outputs": [
    {
     "data": {
      "text/html": [
       "<style>#sk-container-id-9 {color: black;background-color: white;}#sk-container-id-9 pre{padding: 0;}#sk-container-id-9 div.sk-toggleable {background-color: white;}#sk-container-id-9 label.sk-toggleable__label {cursor: pointer;display: block;width: 100%;margin-bottom: 0;padding: 0.3em;box-sizing: border-box;text-align: center;}#sk-container-id-9 label.sk-toggleable__label-arrow:before {content: \"▸\";float: left;margin-right: 0.25em;color: #696969;}#sk-container-id-9 label.sk-toggleable__label-arrow:hover:before {color: black;}#sk-container-id-9 div.sk-estimator:hover label.sk-toggleable__label-arrow:before {color: black;}#sk-container-id-9 div.sk-toggleable__content {max-height: 0;max-width: 0;overflow: hidden;text-align: left;background-color: #f0f8ff;}#sk-container-id-9 div.sk-toggleable__content pre {margin: 0.2em;color: black;border-radius: 0.25em;background-color: #f0f8ff;}#sk-container-id-9 input.sk-toggleable__control:checked~div.sk-toggleable__content {max-height: 200px;max-width: 100%;overflow: auto;}#sk-container-id-9 input.sk-toggleable__control:checked~label.sk-toggleable__label-arrow:before {content: \"▾\";}#sk-container-id-9 div.sk-estimator input.sk-toggleable__control:checked~label.sk-toggleable__label {background-color: #d4ebff;}#sk-container-id-9 div.sk-label input.sk-toggleable__control:checked~label.sk-toggleable__label {background-color: #d4ebff;}#sk-container-id-9 input.sk-hidden--visually {border: 0;clip: rect(1px 1px 1px 1px);clip: rect(1px, 1px, 1px, 1px);height: 1px;margin: -1px;overflow: hidden;padding: 0;position: absolute;width: 1px;}#sk-container-id-9 div.sk-estimator {font-family: monospace;background-color: #f0f8ff;border: 1px dotted black;border-radius: 0.25em;box-sizing: border-box;margin-bottom: 0.5em;}#sk-container-id-9 div.sk-estimator:hover {background-color: #d4ebff;}#sk-container-id-9 div.sk-parallel-item::after {content: \"\";width: 100%;border-bottom: 1px solid gray;flex-grow: 1;}#sk-container-id-9 div.sk-label:hover label.sk-toggleable__label {background-color: #d4ebff;}#sk-container-id-9 div.sk-serial::before {content: \"\";position: absolute;border-left: 1px solid gray;box-sizing: border-box;top: 0;bottom: 0;left: 50%;z-index: 0;}#sk-container-id-9 div.sk-serial {display: flex;flex-direction: column;align-items: center;background-color: white;padding-right: 0.2em;padding-left: 0.2em;position: relative;}#sk-container-id-9 div.sk-item {position: relative;z-index: 1;}#sk-container-id-9 div.sk-parallel {display: flex;align-items: stretch;justify-content: center;background-color: white;position: relative;}#sk-container-id-9 div.sk-item::before, #sk-container-id-9 div.sk-parallel-item::before {content: \"\";position: absolute;border-left: 1px solid gray;box-sizing: border-box;top: 0;bottom: 0;left: 50%;z-index: -1;}#sk-container-id-9 div.sk-parallel-item {display: flex;flex-direction: column;z-index: 1;position: relative;background-color: white;}#sk-container-id-9 div.sk-parallel-item:first-child::after {align-self: flex-end;width: 50%;}#sk-container-id-9 div.sk-parallel-item:last-child::after {align-self: flex-start;width: 50%;}#sk-container-id-9 div.sk-parallel-item:only-child::after {width: 0;}#sk-container-id-9 div.sk-dashed-wrapped {border: 1px dashed gray;margin: 0 0.4em 0.5em 0.4em;box-sizing: border-box;padding-bottom: 0.4em;background-color: white;}#sk-container-id-9 div.sk-label label {font-family: monospace;font-weight: bold;display: inline-block;line-height: 1.2em;}#sk-container-id-9 div.sk-label-container {text-align: center;}#sk-container-id-9 div.sk-container {/* jupyter's `normalize.less` sets `[hidden] { display: none; }` but bootstrap.min.css set `[hidden] { display: none !important; }` so we also need the `!important` here to be able to override the default hidden behavior on the sphinx rendered scikit-learn.org. See: https://github.com/scikit-learn/scikit-learn/issues/21755 */display: inline-block !important;position: relative;}#sk-container-id-9 div.sk-text-repr-fallback {display: none;}</style><div id=\"sk-container-id-9\" class=\"sk-top-container\"><div class=\"sk-text-repr-fallback\"><pre>LinearRegression()</pre><b>In a Jupyter environment, please rerun this cell to show the HTML representation or trust the notebook. <br />On GitHub, the HTML representation is unable to render, please try loading this page with nbviewer.org.</b></div><div class=\"sk-container\" hidden><div class=\"sk-item\"><div class=\"sk-estimator sk-toggleable\"><input class=\"sk-toggleable__control sk-hidden--visually\" id=\"sk-estimator-id-9\" type=\"checkbox\" checked><label for=\"sk-estimator-id-9\" class=\"sk-toggleable__label sk-toggleable__label-arrow\">LinearRegression</label><div class=\"sk-toggleable__content\"><pre>LinearRegression()</pre></div></div></div></div></div>"
      ],
      "text/plain": [
       "LinearRegression()"
      ]
     },
     "execution_count": 85,
     "metadata": {},
     "output_type": "execute_result"
    }
   ],
   "source": [
    "from sklearn.linear_model import LinearRegression\n",
    "\n",
    "X_train = new_train_df[predictor_cols]\n",
    "y_train = new_train_df[\"target\"]\n",
    "\n",
    "reg = LinearRegression()\n",
    "reg.fit(X_train, y_train)"
   ]
  },
  {
   "cell_type": "code",
   "execution_count": 86,
   "metadata": {},
   "outputs": [
    {
     "name": "stdout",
     "output_type": "stream",
     "text": [
      "NAS-101 CIFAR10 Results\n",
      "Mean Squared Error: 0.0038639939652884052\n",
      "R-squared: 0.3082801462321271\n",
      "Spearman correlation coefficient: 0.8399341188597554\n",
      "p-value: 0.0\n"
     ]
    }
   ],
   "source": [
    "from scipy.stats import spearmanr\n",
    "\n",
    "print(\"NAS-101 CIFAR10 Results\")\n",
    "X_test = new_test_df[predictor_cols]\n",
    "y_test = new_test_df[\"target\"]\n",
    "\n",
    "y_pred = reg.predict(X_test)\n",
    "\n",
    "mse = mean_squared_error(y_test, y_pred)\n",
    "r2 = r2_score(y_test, y_pred)\n",
    "print(\"Mean Squared Error:\", mse)\n",
    "print(\"R-squared:\", r2)\n",
    "\n",
    "correlation, p_value = spearmanr(y_test, y_pred)\n",
    "\n",
    "print(\"Spearman correlation coefficient:\", correlation)\n",
    "print(\"p-value:\", p_value)"
   ]
  },
  {
   "cell_type": "code",
   "execution_count": 9,
   "metadata": {},
   "outputs": [
    {
     "ename": "ValueError",
     "evalue": "Unknown label type: 'continuous'",
     "output_type": "error",
     "traceback": [
      "\u001b[0;31m---------------------------------------------------------------------------\u001b[0m",
      "\u001b[0;31mValueError\u001b[0m                                Traceback (most recent call last)",
      "Cell \u001b[0;32mIn[9], line 7\u001b[0m\n\u001b[1;32m      4\u001b[0m y_train \u001b[38;5;241m=\u001b[39m new_train_df[\u001b[38;5;124m\"\u001b[39m\u001b[38;5;124mtarget\u001b[39m\u001b[38;5;124m\"\u001b[39m]\n\u001b[1;32m      6\u001b[0m gp \u001b[38;5;241m=\u001b[39m SVC()\n\u001b[0;32m----> 7\u001b[0m \u001b[43mgp\u001b[49m\u001b[38;5;241;43m.\u001b[39;49m\u001b[43mfit\u001b[49m\u001b[43m(\u001b[49m\u001b[43mX_train\u001b[49m\u001b[43m,\u001b[49m\u001b[43m \u001b[49m\u001b[43my_train\u001b[49m\u001b[43m)\u001b[49m\n",
      "File \u001b[0;32m/opt/conda/envs/test/lib/python3.9/site-packages/sklearn/svm/_base.py:201\u001b[0m, in \u001b[0;36mBaseLibSVM.fit\u001b[0;34m(self, X, y, sample_weight)\u001b[0m\n\u001b[1;32m    191\u001b[0m \u001b[39melse\u001b[39;00m:\n\u001b[1;32m    192\u001b[0m     X, y \u001b[39m=\u001b[39m \u001b[39mself\u001b[39m\u001b[39m.\u001b[39m_validate_data(\n\u001b[1;32m    193\u001b[0m         X,\n\u001b[1;32m    194\u001b[0m         y,\n\u001b[0;32m   (...)\u001b[0m\n\u001b[1;32m    198\u001b[0m         accept_large_sparse\u001b[39m=\u001b[39m\u001b[39mFalse\u001b[39;00m,\n\u001b[1;32m    199\u001b[0m     )\n\u001b[0;32m--> 201\u001b[0m y \u001b[39m=\u001b[39m \u001b[39mself\u001b[39;49m\u001b[39m.\u001b[39;49m_validate_targets(y)\n\u001b[1;32m    203\u001b[0m sample_weight \u001b[39m=\u001b[39m np\u001b[39m.\u001b[39masarray(\n\u001b[1;32m    204\u001b[0m     [] \u001b[39mif\u001b[39;00m sample_weight \u001b[39mis\u001b[39;00m \u001b[39mNone\u001b[39;00m \u001b[39melse\u001b[39;00m sample_weight, dtype\u001b[39m=\u001b[39mnp\u001b[39m.\u001b[39mfloat64\n\u001b[1;32m    205\u001b[0m )\n\u001b[1;32m    206\u001b[0m solver_type \u001b[39m=\u001b[39m LIBSVM_IMPL\u001b[39m.\u001b[39mindex(\u001b[39mself\u001b[39m\u001b[39m.\u001b[39m_impl)\n",
      "File \u001b[0;32m/opt/conda/envs/test/lib/python3.9/site-packages/sklearn/svm/_base.py:745\u001b[0m, in \u001b[0;36mBaseSVC._validate_targets\u001b[0;34m(self, y)\u001b[0m\n\u001b[1;32m    743\u001b[0m \u001b[39mdef\u001b[39;00m \u001b[39m_validate_targets\u001b[39m(\u001b[39mself\u001b[39m, y):\n\u001b[1;32m    744\u001b[0m     y_ \u001b[39m=\u001b[39m column_or_1d(y, warn\u001b[39m=\u001b[39m\u001b[39mTrue\u001b[39;00m)\n\u001b[0;32m--> 745\u001b[0m     check_classification_targets(y)\n\u001b[1;32m    746\u001b[0m     \u001b[39mcls\u001b[39m, y \u001b[39m=\u001b[39m np\u001b[39m.\u001b[39munique(y_, return_inverse\u001b[39m=\u001b[39m\u001b[39mTrue\u001b[39;00m)\n\u001b[1;32m    747\u001b[0m     \u001b[39mself\u001b[39m\u001b[39m.\u001b[39mclass_weight_ \u001b[39m=\u001b[39m compute_class_weight(\u001b[39mself\u001b[39m\u001b[39m.\u001b[39mclass_weight, classes\u001b[39m=\u001b[39m\u001b[39mcls\u001b[39m, y\u001b[39m=\u001b[39my_)\n",
      "File \u001b[0;32m/opt/conda/envs/test/lib/python3.9/site-packages/sklearn/utils/multiclass.py:207\u001b[0m, in \u001b[0;36mcheck_classification_targets\u001b[0;34m(y)\u001b[0m\n\u001b[1;32m    199\u001b[0m y_type \u001b[39m=\u001b[39m type_of_target(y, input_name\u001b[39m=\u001b[39m\u001b[39m\"\u001b[39m\u001b[39my\u001b[39m\u001b[39m\"\u001b[39m)\n\u001b[1;32m    200\u001b[0m \u001b[39mif\u001b[39;00m y_type \u001b[39mnot\u001b[39;00m \u001b[39min\u001b[39;00m [\n\u001b[1;32m    201\u001b[0m     \u001b[39m\"\u001b[39m\u001b[39mbinary\u001b[39m\u001b[39m\"\u001b[39m,\n\u001b[1;32m    202\u001b[0m     \u001b[39m\"\u001b[39m\u001b[39mmulticlass\u001b[39m\u001b[39m\"\u001b[39m,\n\u001b[0;32m   (...)\u001b[0m\n\u001b[1;32m    205\u001b[0m     \u001b[39m\"\u001b[39m\u001b[39mmultilabel-sequences\u001b[39m\u001b[39m\"\u001b[39m,\n\u001b[1;32m    206\u001b[0m ]:\n\u001b[0;32m--> 207\u001b[0m     \u001b[39mraise\u001b[39;00m \u001b[39mValueError\u001b[39;00m(\u001b[39m\"\u001b[39m\u001b[39mUnknown label type: \u001b[39m\u001b[39m%r\u001b[39;00m\u001b[39m\"\u001b[39m \u001b[39m%\u001b[39m y_type)\n",
      "\u001b[0;31mValueError\u001b[0m: Unknown label type: 'continuous'"
     ]
    }
   ],
   "source": [
    "from sklearn.svm import SVC\n",
    "\n",
    "X_train = new_train_df[predictor_cols]\n",
    "y_train = new_train_df[\"target\"]\n",
    "\n",
    "gp = SVC()\n",
    "gp.fit(X_train, y_train)"
   ]
  },
  {
   "cell_type": "code",
   "execution_count": null,
   "metadata": {},
   "outputs": [],
   "source": [
    "from scipy.stats import spearmanr\n",
    "\n",
    "print(\"NAS-101 CIFAR10 Results\")\n",
    "X_test = new_test_df[predictor_cols]\n",
    "y_test = new_test_df[\"target\"]\n",
    "\n",
    "y_pred = gp.predict(X_test)\n",
    "\n",
    "mse = mean_squared_error(y_test, y_pred)\n",
    "r2 = r2_score(y_test, y_pred)\n",
    "print(\"Mean Squared Error:\", mse)\n",
    "print(\"R-squared:\", r2)\n",
    "\n",
    "correlation, p_value = spearmanr(y_test, y_pred)\n",
    "\n",
    "print(\"Spearman correlation coefficient:\", correlation)\n",
    "print(\"p-value:\", p_value)"
   ]
  },
  {
   "cell_type": "code",
   "execution_count": 11,
   "metadata": {},
   "outputs": [
    {
     "data": {
      "text/plain": [
       "SignificanceResult(statistic=1.0, pvalue=0.0)"
      ]
     },
     "execution_count": 11,
     "metadata": {},
     "output_type": "execute_result"
    }
   ],
   "source": [
    "from scipy.stats import spearmanr\n",
    "\n",
    "spearmanr([1,2,3],[0.1,0.2,0.3])"
   ]
  },
  {
   "cell_type": "code",
   "execution_count": 339,
   "metadata": {},
   "outputs": [
    {
     "name": "stderr",
     "output_type": "stream",
     "text": [
      "100%|██████████| 156/156 [00:04<00:00, 31.89it/s]\n"
     ]
    }
   ],
   "source": [
    "from tqdm import tqdm\n",
    "def discriminator(row1, row2):\n",
    "    vote = 1*[(row1[\"synflow\"] > row2['synflow']), (row1[\"jacob_cov\"] > row2['jacob_cov']), (row1[\"snip\"] > row2['snip'])]\n",
    "    if np.mean(vote) > 1.5:\n",
    "        return False\n",
    "    else:\n",
    "        return True\n",
    "    \n",
    "\n",
    "sorted_data = pd.DataFrame(columns=new_test_201_imgnet_df.columns)\n",
    "# for i in range(len(new_test_201_imgnet_df) - 1):\n",
    "#     for j in range(len(new_test_201_imgnet_df) - 1):\n",
    "#         row1 = new_test_201_imgnet_df.iloc[i]\n",
    "#         row2 = new_test_201_imgnet_df.iloc[j]\n",
    "#         # Use the binary discriminator to sort the row with the next row\n",
    "#         sorted_data.loc[i] = row1 if discriminator(row1, row2) else row2\n",
    "#         sorted_data.loc[i + 1] = row2 if discriminator(row1, row2) else row1\n",
    "        \n",
    "n = len(new_test_201_imgnet_df) // 100\n",
    "for i in tqdm(range(n)):\n",
    "    for j in range(n - i - 1):\n",
    "        row1 = new_test_201_imgnet_df.iloc[j]\n",
    "        row2 = new_test_201_imgnet_df.iloc[j + 1]\n",
    "        if discriminator(row1, row2):\n",
    "            sorted_data.loc[j], sorted_data.loc[j + 1] = row2, row1\n"
   ]
  },
  {
   "cell_type": "code",
   "execution_count": 340,
   "metadata": {},
   "outputs": [
    {
     "data": {
      "text/html": [
       "<div>\n",
       "<style scoped>\n",
       "    .dataframe tbody tr th:only-of-type {\n",
       "        vertical-align: middle;\n",
       "    }\n",
       "\n",
       "    .dataframe tbody tr th {\n",
       "        vertical-align: top;\n",
       "    }\n",
       "\n",
       "    .dataframe thead th {\n",
       "        text-align: right;\n",
       "    }\n",
       "</style>\n",
       "<table border=\"1\" class=\"dataframe\">\n",
       "  <thead>\n",
       "    <tr style=\"text-align: right;\">\n",
       "      <th></th>\n",
       "      <th>hashes_x</th>\n",
       "      <th>raw_pred</th>\n",
       "      <th>Unnamed: 0_x</th>\n",
       "      <th>pred</th>\n",
       "      <th>targets</th>\n",
       "      <th>hashes_y</th>\n",
       "      <th>Unnamed: 0_y</th>\n",
       "      <th>grad_norm</th>\n",
       "      <th>snip</th>\n",
       "      <th>grasp</th>\n",
       "      <th>...</th>\n",
       "      <th>pred_x_grasp</th>\n",
       "      <th>raw_pred_x_grasp</th>\n",
       "      <th>pred_x_fisher</th>\n",
       "      <th>raw_pred_x_fisher</th>\n",
       "      <th>pred_x_synflow_bn</th>\n",
       "      <th>raw_pred_x_synflow_bn</th>\n",
       "      <th>pred_x_grad_norm</th>\n",
       "      <th>raw_pred_x_grad_norm</th>\n",
       "      <th>pred_x_jacob_cov</th>\n",
       "      <th>raw_pred_x_jacob_cov</th>\n",
       "    </tr>\n",
       "  </thead>\n",
       "  <tbody>\n",
       "    <tr>\n",
       "      <th>0</th>\n",
       "      <td>3728.0</td>\n",
       "      <td>-13.581244</td>\n",
       "      <td>8225.0</td>\n",
       "      <td>0.123912</td>\n",
       "      <td>0.838500</td>\n",
       "      <td>3728.0</td>\n",
       "      <td>5149.0</td>\n",
       "      <td>3.131342</td>\n",
       "      <td>8.417605</td>\n",
       "      <td>0.202770</td>\n",
       "      <td>...</td>\n",
       "      <td>0.025126</td>\n",
       "      <td>-2.753869</td>\n",
       "      <td>0.001295</td>\n",
       "      <td>-0.141980</td>\n",
       "      <td>25.935756</td>\n",
       "      <td>-2842.668997</td>\n",
       "      <td>0.388010</td>\n",
       "      <td>-42.527517</td>\n",
       "      <td>-8.895215</td>\n",
       "      <td>974.953375</td>\n",
       "    </tr>\n",
       "    <tr>\n",
       "      <th>1</th>\n",
       "      <td>3720.0</td>\n",
       "      <td>-9.121890</td>\n",
       "      <td>8224.0</td>\n",
       "      <td>0.349366</td>\n",
       "      <td>0.887067</td>\n",
       "      <td>3720.0</td>\n",
       "      <td>5148.0</td>\n",
       "      <td>6.949772</td>\n",
       "      <td>17.015934</td>\n",
       "      <td>1.150216</td>\n",
       "      <td>...</td>\n",
       "      <td>0.401846</td>\n",
       "      <td>-10.492147</td>\n",
       "      <td>0.004829</td>\n",
       "      <td>-0.126083</td>\n",
       "      <td>72.840126</td>\n",
       "      <td>-1901.846205</td>\n",
       "      <td>2.428011</td>\n",
       "      <td>-63.395059</td>\n",
       "      <td>-24.554193</td>\n",
       "      <td>641.106775</td>\n",
       "    </tr>\n",
       "    <tr>\n",
       "      <th>2</th>\n",
       "      <td>3728.0</td>\n",
       "      <td>-13.581244</td>\n",
       "      <td>8225.0</td>\n",
       "      <td>0.123912</td>\n",
       "      <td>0.838500</td>\n",
       "      <td>3728.0</td>\n",
       "      <td>5149.0</td>\n",
       "      <td>3.131342</td>\n",
       "      <td>8.417605</td>\n",
       "      <td>0.202770</td>\n",
       "      <td>...</td>\n",
       "      <td>0.025126</td>\n",
       "      <td>-2.753869</td>\n",
       "      <td>0.001295</td>\n",
       "      <td>-0.141980</td>\n",
       "      <td>25.935756</td>\n",
       "      <td>-2842.668997</td>\n",
       "      <td>0.388010</td>\n",
       "      <td>-42.527517</td>\n",
       "      <td>-8.895215</td>\n",
       "      <td>974.953375</td>\n",
       "    </tr>\n",
       "    <tr>\n",
       "      <th>3</th>\n",
       "      <td>3729.0</td>\n",
       "      <td>-11.454072</td>\n",
       "      <td>8226.0</td>\n",
       "      <td>0.259516</td>\n",
       "      <td>0.742800</td>\n",
       "      <td>3729.0</td>\n",
       "      <td>5150.0</td>\n",
       "      <td>2.488399</td>\n",
       "      <td>5.842667</td>\n",
       "      <td>-0.042519</td>\n",
       "      <td>...</td>\n",
       "      <td>-0.011034</td>\n",
       "      <td>0.487020</td>\n",
       "      <td>0.001452</td>\n",
       "      <td>-0.064101</td>\n",
       "      <td>160.567029</td>\n",
       "      <td>-7086.834493</td>\n",
       "      <td>0.645779</td>\n",
       "      <td>-28.502302</td>\n",
       "      <td>-289.016196</td>\n",
       "      <td>12756.105421</td>\n",
       "    </tr>\n",
       "    <tr>\n",
       "      <th>4</th>\n",
       "      <td>3734.0</td>\n",
       "      <td>-12.391227</td>\n",
       "      <td>8227.0</td>\n",
       "      <td>0.137220</td>\n",
       "      <td>0.836400</td>\n",
       "      <td>3734.0</td>\n",
       "      <td>5151.0</td>\n",
       "      <td>4.111494</td>\n",
       "      <td>8.511028</td>\n",
       "      <td>-0.005247</td>\n",
       "      <td>...</td>\n",
       "      <td>-0.000720</td>\n",
       "      <td>0.065014</td>\n",
       "      <td>0.001184</td>\n",
       "      <td>-0.106888</td>\n",
       "      <td>127.955538</td>\n",
       "      <td>-11554.642445</td>\n",
       "      <td>0.564178</td>\n",
       "      <td>-50.946449</td>\n",
       "      <td>-58.314145</td>\n",
       "      <td>5265.884572</td>\n",
       "    </tr>\n",
       "    <tr>\n",
       "      <th>...</th>\n",
       "      <td>...</td>\n",
       "      <td>...</td>\n",
       "      <td>...</td>\n",
       "      <td>...</td>\n",
       "      <td>...</td>\n",
       "      <td>...</td>\n",
       "      <td>...</td>\n",
       "      <td>...</td>\n",
       "      <td>...</td>\n",
       "      <td>...</td>\n",
       "      <td>...</td>\n",
       "      <td>...</td>\n",
       "      <td>...</td>\n",
       "      <td>...</td>\n",
       "      <td>...</td>\n",
       "      <td>...</td>\n",
       "      <td>...</td>\n",
       "      <td>...</td>\n",
       "      <td>...</td>\n",
       "      <td>...</td>\n",
       "      <td>...</td>\n",
       "    </tr>\n",
       "    <tr>\n",
       "      <th>151</th>\n",
       "      <td>123.0</td>\n",
       "      <td>-0.137554</td>\n",
       "      <td>7126.0</td>\n",
       "      <td>0.779341</td>\n",
       "      <td>0.773333</td>\n",
       "      <td>123.0</td>\n",
       "      <td>14495.0</td>\n",
       "      <td>27.246367</td>\n",
       "      <td>57.978626</td>\n",
       "      <td>18.002710</td>\n",
       "      <td>...</td>\n",
       "      <td>14.030257</td>\n",
       "      <td>-2.476348</td>\n",
       "      <td>0.126245</td>\n",
       "      <td>-0.022282</td>\n",
       "      <td>571.341163</td>\n",
       "      <td>-100.842006</td>\n",
       "      <td>21.234221</td>\n",
       "      <td>-3.747851</td>\n",
       "      <td>-159.921103</td>\n",
       "      <td>28.226156</td>\n",
       "    </tr>\n",
       "    <tr>\n",
       "      <th>152</th>\n",
       "      <td>124.0</td>\n",
       "      <td>-9.464701</td>\n",
       "      <td>7127.0</td>\n",
       "      <td>0.281486</td>\n",
       "      <td>0.889800</td>\n",
       "      <td>124.0</td>\n",
       "      <td>14496.0</td>\n",
       "      <td>7.716762</td>\n",
       "      <td>18.608191</td>\n",
       "      <td>1.172540</td>\n",
       "      <td>...</td>\n",
       "      <td>0.330053</td>\n",
       "      <td>-11.097742</td>\n",
       "      <td>0.003099</td>\n",
       "      <td>-0.104193</td>\n",
       "      <td>57.566492</td>\n",
       "      <td>-1935.619861</td>\n",
       "      <td>2.172159</td>\n",
       "      <td>-73.036839</td>\n",
       "      <td>-19.691587</td>\n",
       "      <td>662.111351</td>\n",
       "    </tr>\n",
       "    <tr>\n",
       "      <th>153</th>\n",
       "      <td>125.0</td>\n",
       "      <td>-11.616349</td>\n",
       "      <td>7128.0</td>\n",
       "      <td>0.244602</td>\n",
       "      <td>0.865667</td>\n",
       "      <td>125.0</td>\n",
       "      <td>14497.0</td>\n",
       "      <td>35.151638</td>\n",
       "      <td>71.543892</td>\n",
       "      <td>-3.872238</td>\n",
       "      <td>...</td>\n",
       "      <td>-0.947155</td>\n",
       "      <td>44.981271</td>\n",
       "      <td>0.069816</td>\n",
       "      <td>-3.315642</td>\n",
       "      <td>65.922776</td>\n",
       "      <td>-3130.732371</td>\n",
       "      <td>8.598145</td>\n",
       "      <td>-408.333703</td>\n",
       "      <td>-18.220334</td>\n",
       "      <td>865.300169</td>\n",
       "    </tr>\n",
       "    <tr>\n",
       "      <th>154</th>\n",
       "      <td>126.0</td>\n",
       "      <td>-3.496851</td>\n",
       "      <td>7129.0</td>\n",
       "      <td>0.696159</td>\n",
       "      <td>0.802633</td>\n",
       "      <td>126.0</td>\n",
       "      <td>14498.0</td>\n",
       "      <td>4.233121</td>\n",
       "      <td>8.839723</td>\n",
       "      <td>-0.044031</td>\n",
       "      <td>...</td>\n",
       "      <td>-0.030653</td>\n",
       "      <td>0.153970</td>\n",
       "      <td>0.005711</td>\n",
       "      <td>-0.028685</td>\n",
       "      <td>1044.706568</td>\n",
       "      <td>-5247.628444</td>\n",
       "      <td>2.946925</td>\n",
       "      <td>-14.802595</td>\n",
       "      <td>-89.634818</td>\n",
       "      <td>450.241471</td>\n",
       "    </tr>\n",
       "    <tr>\n",
       "      <th>155</th>\n",
       "      <td>130.0</td>\n",
       "      <td>-9.944410</td>\n",
       "      <td>7130.0</td>\n",
       "      <td>0.203294</td>\n",
       "      <td>0.886733</td>\n",
       "      <td>130.0</td>\n",
       "      <td>14499.0</td>\n",
       "      <td>10.295792</td>\n",
       "      <td>23.774641</td>\n",
       "      <td>2.067128</td>\n",
       "      <td>...</td>\n",
       "      <td>0.420234</td>\n",
       "      <td>-20.556366</td>\n",
       "      <td>0.004888</td>\n",
       "      <td>-0.239088</td>\n",
       "      <td>41.336306</td>\n",
       "      <td>-2022.024143</td>\n",
       "      <td>2.093072</td>\n",
       "      <td>-102.385577</td>\n",
       "      <td>-15.411345</td>\n",
       "      <td>753.867829</td>\n",
       "    </tr>\n",
       "  </tbody>\n",
       "</table>\n",
       "<p>156 rows × 31 columns</p>\n",
       "</div>"
      ],
      "text/plain": [
       "     hashes_x   raw_pred  Unnamed: 0_x      pred   targets  hashes_y  \\\n",
       "0      3728.0 -13.581244        8225.0  0.123912  0.838500    3728.0   \n",
       "1      3720.0  -9.121890        8224.0  0.349366  0.887067    3720.0   \n",
       "2      3728.0 -13.581244        8225.0  0.123912  0.838500    3728.0   \n",
       "3      3729.0 -11.454072        8226.0  0.259516  0.742800    3729.0   \n",
       "4      3734.0 -12.391227        8227.0  0.137220  0.836400    3734.0   \n",
       "..        ...        ...           ...       ...       ...       ...   \n",
       "151     123.0  -0.137554        7126.0  0.779341  0.773333     123.0   \n",
       "152     124.0  -9.464701        7127.0  0.281486  0.889800     124.0   \n",
       "153     125.0 -11.616349        7128.0  0.244602  0.865667     125.0   \n",
       "154     126.0  -3.496851        7129.0  0.696159  0.802633     126.0   \n",
       "155     130.0  -9.944410        7130.0  0.203294  0.886733     130.0   \n",
       "\n",
       "     Unnamed: 0_y  grad_norm       snip      grasp  ...  pred_x_grasp  \\\n",
       "0          5149.0   3.131342   8.417605   0.202770  ...      0.025126   \n",
       "1          5148.0   6.949772  17.015934   1.150216  ...      0.401846   \n",
       "2          5149.0   3.131342   8.417605   0.202770  ...      0.025126   \n",
       "3          5150.0   2.488399   5.842667  -0.042519  ...     -0.011034   \n",
       "4          5151.0   4.111494   8.511028  -0.005247  ...     -0.000720   \n",
       "..            ...        ...        ...        ...  ...           ...   \n",
       "151       14495.0  27.246367  57.978626  18.002710  ...     14.030257   \n",
       "152       14496.0   7.716762  18.608191   1.172540  ...      0.330053   \n",
       "153       14497.0  35.151638  71.543892  -3.872238  ...     -0.947155   \n",
       "154       14498.0   4.233121   8.839723  -0.044031  ...     -0.030653   \n",
       "155       14499.0  10.295792  23.774641   2.067128  ...      0.420234   \n",
       "\n",
       "     raw_pred_x_grasp  pred_x_fisher  raw_pred_x_fisher  pred_x_synflow_bn  \\\n",
       "0           -2.753869       0.001295          -0.141980          25.935756   \n",
       "1          -10.492147       0.004829          -0.126083          72.840126   \n",
       "2           -2.753869       0.001295          -0.141980          25.935756   \n",
       "3            0.487020       0.001452          -0.064101         160.567029   \n",
       "4            0.065014       0.001184          -0.106888         127.955538   \n",
       "..                ...            ...                ...                ...   \n",
       "151         -2.476348       0.126245          -0.022282         571.341163   \n",
       "152        -11.097742       0.003099          -0.104193          57.566492   \n",
       "153         44.981271       0.069816          -3.315642          65.922776   \n",
       "154          0.153970       0.005711          -0.028685        1044.706568   \n",
       "155        -20.556366       0.004888          -0.239088          41.336306   \n",
       "\n",
       "     raw_pred_x_synflow_bn  pred_x_grad_norm  raw_pred_x_grad_norm  \\\n",
       "0             -2842.668997          0.388010            -42.527517   \n",
       "1             -1901.846205          2.428011            -63.395059   \n",
       "2             -2842.668997          0.388010            -42.527517   \n",
       "3             -7086.834493          0.645779            -28.502302   \n",
       "4            -11554.642445          0.564178            -50.946449   \n",
       "..                     ...               ...                   ...   \n",
       "151            -100.842006         21.234221             -3.747851   \n",
       "152           -1935.619861          2.172159            -73.036839   \n",
       "153           -3130.732371          8.598145           -408.333703   \n",
       "154           -5247.628444          2.946925            -14.802595   \n",
       "155           -2022.024143          2.093072           -102.385577   \n",
       "\n",
       "     pred_x_jacob_cov  raw_pred_x_jacob_cov  \n",
       "0           -8.895215            974.953375  \n",
       "1          -24.554193            641.106775  \n",
       "2           -8.895215            974.953375  \n",
       "3         -289.016196          12756.105421  \n",
       "4          -58.314145           5265.884572  \n",
       "..                ...                   ...  \n",
       "151       -159.921103             28.226156  \n",
       "152        -19.691587            662.111351  \n",
       "153        -18.220334            865.300169  \n",
       "154        -89.634818            450.241471  \n",
       "155        -15.411345            753.867829  \n",
       "\n",
       "[156 rows x 31 columns]"
      ]
     },
     "execution_count": 340,
     "metadata": {},
     "output_type": "execute_result"
    }
   ],
   "source": [
    "sorted_data"
   ]
  },
  {
   "cell_type": "code",
   "execution_count": null,
   "metadata": {},
   "outputs": [],
   "source": []
  }
 ],
 "metadata": {
  "kernelspec": {
   "display_name": "Python 3.9.16 ('test')",
   "language": "python",
   "name": "python3"
  },
  "language_info": {
   "codemirror_mode": {
    "name": "ipython",
    "version": 3
   },
   "file_extension": ".py",
   "mimetype": "text/x-python",
   "name": "python",
   "nbconvert_exporter": "python",
   "pygments_lexer": "ipython3",
   "version": "3.9.16"
  },
  "orig_nbformat": 4,
  "vscode": {
   "interpreter": {
    "hash": "bd5eb279d10053843772e5b13836afa1489cd82e3492b360393a155ea89d875e"
   }
  }
 },
 "nbformat": 4,
 "nbformat_minor": 2
}
